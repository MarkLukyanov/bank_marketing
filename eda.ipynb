{
 "nbformat": 4,
 "nbformat_minor": 0,
 "metadata": {
  "colab": {
   "provenance": []
  },
  "kernelspec": {
   "name": "python3",
   "display_name": "Python 3"
  },
  "language_info": {
   "name": "python"
  }
 },
 "cells": [
  {
   "cell_type": "markdown",
   "source": [
    "# Разведочный анализ данных"
   ],
   "metadata": {
    "id": "8VjBRhaA_ZqO"
   }
  },
  {
   "cell_type": "markdown",
   "source": [
    "![bank-office-employees-managers-sitting-behind-tables-advise-clients-serving-bank-customers_547662-1196.jpg.webp](data:image/webp;base64,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)"
   ],
   "metadata": {
    "id": "ddBmwStVApfH"
   }
  },
  {
   "cell_type": "markdown",
   "source": [
    "## Описание задачи"
   ],
   "metadata": {
    "id": "h6AGE7OC_hBg"
   }
  },
  {
   "cell_type": "markdown",
   "source": [
    "Один из способов повысить эффективность взаимодействия банка с клиентами — отправлять предложение о новой услуге не всем клиентам, а только некоторым, которые выбираются по принципу наибольшей склонности к отклику на это предложение.\n",
    "\n",
    "Задача заключается в том, чтобы предложить алгоритм, который будет выдавать склонность клиента к положительному или отрицательному отклику на предложение банка. Предполагается, что, получив такие оценки для некоторого множества клиентов, банк обратится с предложением только к тем, от кого ожидается положительный отклик."
   ],
   "metadata": {
    "id": "MiP7AdJA_z5A"
   }
  },
  {
   "cell_type": "markdown",
   "source": [
    "Таблицы находятся [здесь](https://github.com/aiedu-courses/stepik_linear_models/tree/main/datasets)."
   ],
   "metadata": {
    "id": "jSl0djAGAH3_"
   }
  },
  {
   "cell_type": "markdown",
   "source": [
    "## Импортирование библиотек и загрузка данных"
   ],
   "metadata": {
    "id": "i6kToj40A4YN"
   }
  },
  {
   "cell_type": "markdown",
   "source": [
    "Данные распределены по разным файлам. Для их анализа нужно поместить их в один датафрейм. Все файлы логически соединены столбцом либо через идентификатор клиента, либо через идентификатор кредита."
   ],
   "metadata": {
    "id": "Kb0Cep3RuwtI"
   }
  },
  {
   "cell_type": "code",
   "source": [
    "import numpy as np\n",
    "import pandas as pd\n",
    "import matplotlib.pyplot as plt\n",
    "import seaborn as sns"
   ],
   "metadata": {
    "id": "RN2GOaIrA-Xh"
   },
   "execution_count": null,
   "outputs": []
  },
  {
   "cell_type": "code",
   "source": [
    "df_job = pd.read_csv(\"https://raw.githubusercontent.com/aiedu-courses/stepik_linear_models/main/datasets/D_job.csv\")\n",
    "df_last_credit = pd.read_csv(\"https://raw.githubusercontent.com/aiedu-courses/stepik_linear_models/main/datasets/D_last_credit.csv\")\n",
    "df_salary = pd.read_csv(\"https://raw.githubusercontent.com/aiedu-courses/stepik_linear_models/main/datasets/D_salary.csv\")\n",
    "df_target = pd.read_csv(\"https://raw.githubusercontent.com/aiedu-courses/stepik_linear_models/main/datasets/D_target.csv\")\n",
    "df_clients = pd.read_csv(\"https://raw.githubusercontent.com/aiedu-courses/stepik_linear_models/main/datasets/D_clients.csv\")\n",
    "df_loan = pd.read_csv(\"https://raw.githubusercontent.com/aiedu-courses/stepik_linear_models/main/datasets/D_loan.csv\")\n",
    "df_close_loan = pd.read_csv(\"https://raw.githubusercontent.com/aiedu-courses/stepik_linear_models/main/datasets/D_close_loan.csv\")"
   ],
   "metadata": {
    "id": "2kcewRPxDixW"
   },
   "execution_count": null,
   "outputs": []
  },
  {
   "cell_type": "markdown",
   "source": [
    "## Обработка данных"
   ],
   "metadata": {
    "id": "rzj-gG0DpcGi"
   }
  },
  {
   "cell_type": "markdown",
   "source": [
    "Посмотрим на на наши данные."
   ],
   "metadata": {
    "id": "iKN7fTsn7LEu"
   }
  },
  {
   "cell_type": "code",
   "source": [
    "df_job.info()"
   ],
   "metadata": {
    "colab": {
     "base_uri": "https://localhost:8080/"
    },
    "id": "wRSAKyLf4rij",
    "outputId": "d343ddf3-28e5-4dad-e6a1-82c36ee1ee59"
   },
   "execution_count": null,
   "outputs": [
    {
     "output_type": "stream",
     "name": "stdout",
     "text": [
      "<class 'pandas.core.frame.DataFrame'>\n",
      "RangeIndex: 15223 entries, 0 to 15222\n",
      "Data columns (total 5 columns):\n",
      " #   Column        Non-Null Count  Dtype  \n",
      "---  ------        --------------  -----  \n",
      " 0   GEN_INDUSTRY  13856 non-null  object \n",
      " 1   GEN_TITLE     13856 non-null  object \n",
      " 2   JOB_DIR       13856 non-null  object \n",
      " 3   WORK_TIME     13855 non-null  float64\n",
      " 4   ID_CLIENT     15223 non-null  int64  \n",
      "dtypes: float64(1), int64(1), object(3)\n",
      "memory usage: 594.8+ KB\n"
     ]
    }
   ]
  },
  {
   "cell_type": "code",
   "source": [
    "df_last_credit.info()"
   ],
   "metadata": {
    "colab": {
     "base_uri": "https://localhost:8080/"
    },
    "id": "a-Utsdao5xpr",
    "outputId": "ea83d2cf-8672-4f19-943b-20919ea00364"
   },
   "execution_count": null,
   "outputs": [
    {
     "output_type": "stream",
     "name": "stdout",
     "text": [
      "<class 'pandas.core.frame.DataFrame'>\n",
      "RangeIndex: 15223 entries, 0 to 15222\n",
      "Data columns (total 4 columns):\n",
      " #   Column       Non-Null Count  Dtype  \n",
      "---  ------       --------------  -----  \n",
      " 0   CREDIT       15223 non-null  float64\n",
      " 1   TERM         15223 non-null  int64  \n",
      " 2   FST_PAYMENT  15223 non-null  float64\n",
      " 3   ID_CLIENT    15223 non-null  int64  \n",
      "dtypes: float64(2), int64(2)\n",
      "memory usage: 475.8 KB\n"
     ]
    }
   ]
  },
  {
   "cell_type": "code",
   "source": [
    "df_salary.info()"
   ],
   "metadata": {
    "colab": {
     "base_uri": "https://localhost:8080/"
    },
    "id": "GuNe0s3e5yQ9",
    "outputId": "51ed3edb-5269-406e-82ad-db8d7826ca58"
   },
   "execution_count": null,
   "outputs": [
    {
     "output_type": "stream",
     "name": "stdout",
     "text": [
      "<class 'pandas.core.frame.DataFrame'>\n",
      "RangeIndex: 15523 entries, 0 to 15522\n",
      "Data columns (total 3 columns):\n",
      " #   Column           Non-Null Count  Dtype  \n",
      "---  ------           --------------  -----  \n",
      " 0   FAMILY_INCOME    15523 non-null  object \n",
      " 1   PERSONAL_INCOME  15523 non-null  float64\n",
      " 2   ID_CLIENT        15523 non-null  int64  \n",
      "dtypes: float64(1), int64(1), object(1)\n",
      "memory usage: 363.9+ KB\n"
     ]
    }
   ]
  },
  {
   "cell_type": "code",
   "source": [
    "df_target.info()"
   ],
   "metadata": {
    "colab": {
     "base_uri": "https://localhost:8080/"
    },
    "id": "RKVZEx5R5yx2",
    "outputId": "c7b52166-2345-4198-a4d6-e3cbebb4cf33"
   },
   "execution_count": null,
   "outputs": [
    {
     "output_type": "stream",
     "name": "stdout",
     "text": [
      "<class 'pandas.core.frame.DataFrame'>\n",
      "RangeIndex: 15223 entries, 0 to 15222\n",
      "Data columns (total 3 columns):\n",
      " #   Column        Non-Null Count  Dtype\n",
      "---  ------        --------------  -----\n",
      " 0   AGREEMENT_RK  15223 non-null  int64\n",
      " 1   ID_CLIENT     15223 non-null  int64\n",
      " 2   TARGET        15223 non-null  int64\n",
      "dtypes: int64(3)\n",
      "memory usage: 356.9 KB\n"
     ]
    }
   ]
  },
  {
   "cell_type": "code",
   "source": [
    "df_clients.info()"
   ],
   "metadata": {
    "colab": {
     "base_uri": "https://localhost:8080/"
    },
    "id": "qg4p_F8r52b2",
    "outputId": "7da077a1-cad2-4438-d1cf-799a13e8eb57"
   },
   "execution_count": null,
   "outputs": [
    {
     "output_type": "stream",
     "name": "stdout",
     "text": [
      "<class 'pandas.core.frame.DataFrame'>\n",
      "RangeIndex: 16000 entries, 0 to 15999\n",
      "Data columns (total 14 columns):\n",
      " #   Column                   Non-Null Count  Dtype \n",
      "---  ------                   --------------  ----- \n",
      " 0   ID                       16000 non-null  int64 \n",
      " 1   AGE                      16000 non-null  int64 \n",
      " 2   GENDER                   16000 non-null  int64 \n",
      " 3   EDUCATION                16000 non-null  object\n",
      " 4   MARITAL_STATUS           16000 non-null  object\n",
      " 5   CHILD_TOTAL              16000 non-null  int64 \n",
      " 6   DEPENDANTS               16000 non-null  int64 \n",
      " 7   SOCSTATUS_WORK_FL        16000 non-null  int64 \n",
      " 8   SOCSTATUS_PENS_FL        16000 non-null  int64 \n",
      " 9   REG_ADDRESS_PROVINCE     16000 non-null  object\n",
      " 10  FACT_ADDRESS_PROVINCE    16000 non-null  object\n",
      " 11  POSTAL_ADDRESS_PROVINCE  16000 non-null  object\n",
      " 12  FL_PRESENCE_FL           16000 non-null  int64 \n",
      " 13  OWN_AUTO                 16000 non-null  int64 \n",
      "dtypes: int64(9), object(5)\n",
      "memory usage: 1.7+ MB\n"
     ]
    }
   ]
  },
  {
   "cell_type": "markdown",
   "source": [
    "Видим, что самый \"грязный\" датасет - df_job, так как в нём много пропусков. В остальных их вообще нет."
   ],
   "metadata": {
    "id": "xxk_Ycd47UBv"
   }
  },
  {
   "cell_type": "code",
   "source": [
    "df_job.dropna(inplace=True)"
   ],
   "metadata": {
    "id": "nKnVigCm7_-0"
   },
   "execution_count": null,
   "outputs": []
  },
  {
   "cell_type": "code",
   "source": [
    "df_job.info()"
   ],
   "metadata": {
    "colab": {
     "base_uri": "https://localhost:8080/"
    },
    "id": "Cz1jilim8Eac",
    "outputId": "c3803f32-783a-4540-927c-2b7ee411bb69"
   },
   "execution_count": null,
   "outputs": [
    {
     "output_type": "stream",
     "name": "stdout",
     "text": [
      "<class 'pandas.core.frame.DataFrame'>\n",
      "Int64Index: 13855 entries, 0 to 15222\n",
      "Data columns (total 5 columns):\n",
      " #   Column        Non-Null Count  Dtype  \n",
      "---  ------        --------------  -----  \n",
      " 0   GEN_INDUSTRY  13855 non-null  object \n",
      " 1   GEN_TITLE     13855 non-null  object \n",
      " 2   JOB_DIR       13855 non-null  object \n",
      " 3   WORK_TIME     13855 non-null  float64\n",
      " 4   ID_CLIENT     13855 non-null  int64  \n",
      "dtypes: float64(1), int64(1), object(3)\n",
      "memory usage: 649.5+ KB\n"
     ]
    }
   ]
  },
  {
   "cell_type": "markdown",
   "source": [
    "Так же посмотрим на количество дубликатов. Удалим их при наличии."
   ],
   "metadata": {
    "id": "pOSGb9IC8Lv_"
   }
  },
  {
   "cell_type": "code",
   "source": [
    "df_job.duplicated().sum(), df_last_credit.duplicated().sum(), df_salary.duplicated().sum(), df_target.duplicated().sum(), df_clients.duplicated().sum()"
   ],
   "metadata": {
    "colab": {
     "base_uri": "https://localhost:8080/"
    },
    "id": "sEYuYR_X8W8C",
    "outputId": "56db9423-d223-4f0f-f288-9559e94d5d4e"
   },
   "execution_count": null,
   "outputs": [
    {
     "output_type": "execute_result",
     "data": {
      "text/plain": [
       "(0, 0, 300, 0, 0)"
      ]
     },
     "metadata": {},
     "execution_count": 10
    }
   ]
  },
  {
   "cell_type": "code",
   "source": [
    "df_salary.drop_duplicates(inplace=True)"
   ],
   "metadata": {
    "id": "b5kUICXn8yly"
   },
   "execution_count": null,
   "outputs": []
  },
  {
   "cell_type": "markdown",
   "source": [
    "В df_job сейчас меньше всего строк, поэтому будем прикреплять остальные таблички именно к ней. Для начала оставим записи только о тех клиентах, чьи id есть во всех таблицах."
   ],
   "metadata": {
    "id": "10Sbpn4x-K3L"
   }
  },
  {
   "cell_type": "code",
   "source": [
    "i = 0\n",
    "while i <= df_salary.index.values[-1]:\n",
    "    if (i in df_salary.index.values) and (df_salary[\"ID_CLIENT\"][i] not in df_job[\"ID_CLIENT\"].values): # считаем строго по индексам\n",
    "        df_salary.drop(i, inplace=True)\n",
    "    i += 1\n",
    "\n",
    "i = 0\n",
    "while i <= df_last_credit.index.values[-1]:\n",
    "    if (i in df_last_credit.index.values) and (df_last_credit[\"ID_CLIENT\"][i] not in df_job[\"ID_CLIENT\"].values):\n",
    "        df_last_credit.drop(i, inplace=True)\n",
    "    i += 1\n",
    "\n",
    "\n",
    "i = 0\n",
    "while i <= df_target.index.values[-1]:\n",
    "    if (i in df_target.index.values) and (df_target[\"ID_CLIENT\"][i] not in df_job[\"ID_CLIENT\"].values):\n",
    "        df_target.drop(i, inplace=True)\n",
    "    i += 1\n",
    "\n",
    "i = 0\n",
    "while i <= df_clients.index.values[-1]:\n",
    "    if (i in df_clients.index.values) and (df_clients[\"ID\"][i] not in df_job[\"ID_CLIENT\"].values):\n",
    "        df_clients.drop(i, inplace=True)\n",
    "    i += 1\n",
    "\n",
    "i = 0\n",
    "while i <= df_loan.index.values[-1]:\n",
    "    if (i in df_loan.index.values) and (df_loan[\"ID_CLIENT\"][i] not in df_job[\"ID_CLIENT\"].values):\n",
    "        df_loan.drop(i, inplace=True)\n",
    "    i += 1"
   ],
   "metadata": {
    "id": "MH7VNj-tlbM_"
   },
   "execution_count": null,
   "outputs": []
  },
  {
   "cell_type": "code",
   "source": [
    "df_salary.shape, df_last_credit.shape, df_target.shape, df_clients.shape, df_loan.shape"
   ],
   "metadata": {
    "colab": {
     "base_uri": "https://localhost:8080/"
    },
    "id": "rAbA1_3roYfg",
    "outputId": "77136c46-8403-444a-a910-2b17a394e7bc"
   },
   "execution_count": null,
   "outputs": [
    {
     "output_type": "execute_result",
     "data": {
      "text/plain": [
       "((13855, 3), (13855, 4), (13855, 3), (13855, 14), (19359, 2))"
      ]
     },
     "metadata": {},
     "execution_count": 13
    }
   ]
  },
  {
   "cell_type": "markdown",
   "source": [
    "Обработаем таблички про кредиты."
   ],
   "metadata": {
    "id": "_tDcHfwClMQr"
   }
  },
  {
   "cell_type": "code",
   "source": [
    "df_loan.info()"
   ],
   "metadata": {
    "colab": {
     "base_uri": "https://localhost:8080/"
    },
    "id": "lkpbnate9bH8",
    "outputId": "b9f9e919-21f7-4a43-fb1c-473397c26fa5"
   },
   "execution_count": null,
   "outputs": [
    {
     "output_type": "stream",
     "name": "stdout",
     "text": [
      "<class 'pandas.core.frame.DataFrame'>\n",
      "Int64Index: 19359 entries, 0 to 21125\n",
      "Data columns (total 2 columns):\n",
      " #   Column     Non-Null Count  Dtype\n",
      "---  ------     --------------  -----\n",
      " 0   ID_LOAN    19359 non-null  int64\n",
      " 1   ID_CLIENT  19359 non-null  int64\n",
      "dtypes: int64(2)\n",
      "memory usage: 969.8 KB\n"
     ]
    }
   ]
  },
  {
   "cell_type": "code",
   "source": [
    "df_close_loan.info()"
   ],
   "metadata": {
    "colab": {
     "base_uri": "https://localhost:8080/"
    },
    "id": "jM3BV7pn9g0r",
    "outputId": "fb0aad2b-4e38-4c16-b070-d5f42a6727d5"
   },
   "execution_count": null,
   "outputs": [
    {
     "output_type": "stream",
     "name": "stdout",
     "text": [
      "<class 'pandas.core.frame.DataFrame'>\n",
      "RangeIndex: 21126 entries, 0 to 21125\n",
      "Data columns (total 2 columns):\n",
      " #   Column     Non-Null Count  Dtype\n",
      "---  ------     --------------  -----\n",
      " 0   ID_LOAN    21126 non-null  int64\n",
      " 1   CLOSED_FL  21126 non-null  int64\n",
      "dtypes: int64(2)\n",
      "memory usage: 330.2 KB\n"
     ]
    }
   ]
  },
  {
   "cell_type": "code",
   "source": [
    "df_loan.duplicated().sum(), df_close_loan.duplicated().sum()"
   ],
   "metadata": {
    "colab": {
     "base_uri": "https://localhost:8080/"
    },
    "id": "HObRwJw79kLu",
    "outputId": "9f1938bf-1225-4a81-df1d-9480c8939325"
   },
   "execution_count": null,
   "outputs": [
    {
     "output_type": "execute_result",
     "data": {
      "text/plain": [
       "(0, 0)"
      ]
     },
     "metadata": {},
     "execution_count": 16
    }
   ]
  },
  {
   "cell_type": "markdown",
   "source": [
    "Теперь ни в одной таблице нет ни пропусков, ни дубликатов. Отсортируем их по идентификатору клиента."
   ],
   "metadata": {
    "id": "OGO4jvkA9V1S"
   }
  },
  {
   "cell_type": "code",
   "source": [
    "df_salary.sort_values(by=[\"ID_CLIENT\"], inplace=True)\n",
    "df_job.sort_values(by=[\"ID_CLIENT\"], inplace=True)\n",
    "df_last_credit.sort_values(by=[\"ID_CLIENT\"], inplace=True)\n",
    "df_target.sort_values(by=[\"ID_CLIENT\"], inplace=True)\n",
    "df_clients.sort_values(by=[\"ID\"], inplace=True)"
   ],
   "metadata": {
    "id": "uFNT7vIE-9Di"
   },
   "execution_count": null,
   "outputs": []
  },
  {
   "cell_type": "markdown",
   "source": [
    "Нужно посчитать общее количество ссуд и количество погашенных ссуд."
   ],
   "metadata": {
    "id": "-BAZmJ13D4RN"
   }
  },
  {
   "cell_type": "code",
   "source": [
    "agg_func = {\"ID_LOAN\" : [\"nunique\", list]}\n",
    "\n",
    "df_grouped = df_loan.groupby([\"ID_CLIENT\"]).agg(agg_func)"
   ],
   "metadata": {
    "id": "1UGqXRbsEV0w"
   },
   "execution_count": null,
   "outputs": []
  },
  {
   "cell_type": "code",
   "source": [
    "df_grouped.sort_index(inplace=True)"
   ],
   "metadata": {
    "id": "Dp2sWjGLFHDa"
   },
   "execution_count": null,
   "outputs": []
  },
  {
   "cell_type": "markdown",
   "source": [
    "Для каждого клиента мы знаем общее количество взятых кредитов и их id. Создадим столбец для подсчёта закрытых кредитов. Пока все значения будут равны 0."
   ],
   "metadata": {
    "id": "B4x-7BTgltgX"
   }
  },
  {
   "cell_type": "code",
   "source": [
    "values = [0] * 13855\n",
    "df_grouped[\"LOAN_NUM_CLOSED\"] = values\n",
    "df_grouped"
   ],
   "metadata": {
    "colab": {
     "base_uri": "https://localhost:8080/",
     "height": 486
    },
    "id": "cWRlMEX_Furn",
    "outputId": "a16c886f-6a69-466a-b569-d2f6403018bb"
   },
   "execution_count": null,
   "outputs": [
    {
     "output_type": "execute_result",
     "data": {
      "text/plain": [
       "          ID_LOAN                                       LOAN_NUM_CLOSED\n",
       "          nunique                                  list                \n",
       "ID_CLIENT                                                              \n",
       "106804370       1                          [1753790658]               0\n",
       "106804371       1                          [1753790659]               0\n",
       "106804372       2              [1753790660, 1753790661]               0\n",
       "106804373       1                          [1753790662]               0\n",
       "106804374       2              [1753790663, 1753790664]               0\n",
       "...           ...                                   ...             ...\n",
       "106819587       1                          [1753811776]               0\n",
       "106819588       3  [1753811777, 1753811778, 1753811779]               0\n",
       "106819589       1                          [1753811780]               0\n",
       "106819590       1                          [1753811781]               0\n",
       "106819592       1                          [1753811783]               0\n",
       "\n",
       "[13855 rows x 3 columns]"
      ],
      "text/html": [
       "\n",
       "  <div id=\"df-18ceca0b-f363-4068-b9d2-92b05200eb94\" class=\"colab-df-container\">\n",
       "    <div>\n",
       "<style scoped>\n",
       "    .dataframe tbody tr th:only-of-type {\n",
       "        vertical-align: middle;\n",
       "    }\n",
       "\n",
       "    .dataframe tbody tr th {\n",
       "        vertical-align: top;\n",
       "    }\n",
       "\n",
       "    .dataframe thead tr th {\n",
       "        text-align: left;\n",
       "    }\n",
       "\n",
       "    .dataframe thead tr:last-of-type th {\n",
       "        text-align: right;\n",
       "    }\n",
       "</style>\n",
       "<table border=\"1\" class=\"dataframe\">\n",
       "  <thead>\n",
       "    <tr>\n",
       "      <th></th>\n",
       "      <th colspan=\"2\" halign=\"left\">ID_LOAN</th>\n",
       "      <th>LOAN_NUM_CLOSED</th>\n",
       "    </tr>\n",
       "    <tr>\n",
       "      <th></th>\n",
       "      <th>nunique</th>\n",
       "      <th>list</th>\n",
       "      <th></th>\n",
       "    </tr>\n",
       "    <tr>\n",
       "      <th>ID_CLIENT</th>\n",
       "      <th></th>\n",
       "      <th></th>\n",
       "      <th></th>\n",
       "    </tr>\n",
       "  </thead>\n",
       "  <tbody>\n",
       "    <tr>\n",
       "      <th>106804370</th>\n",
       "      <td>1</td>\n",
       "      <td>[1753790658]</td>\n",
       "      <td>0</td>\n",
       "    </tr>\n",
       "    <tr>\n",
       "      <th>106804371</th>\n",
       "      <td>1</td>\n",
       "      <td>[1753790659]</td>\n",
       "      <td>0</td>\n",
       "    </tr>\n",
       "    <tr>\n",
       "      <th>106804372</th>\n",
       "      <td>2</td>\n",
       "      <td>[1753790660, 1753790661]</td>\n",
       "      <td>0</td>\n",
       "    </tr>\n",
       "    <tr>\n",
       "      <th>106804373</th>\n",
       "      <td>1</td>\n",
       "      <td>[1753790662]</td>\n",
       "      <td>0</td>\n",
       "    </tr>\n",
       "    <tr>\n",
       "      <th>106804374</th>\n",
       "      <td>2</td>\n",
       "      <td>[1753790663, 1753790664]</td>\n",
       "      <td>0</td>\n",
       "    </tr>\n",
       "    <tr>\n",
       "      <th>...</th>\n",
       "      <td>...</td>\n",
       "      <td>...</td>\n",
       "      <td>...</td>\n",
       "    </tr>\n",
       "    <tr>\n",
       "      <th>106819587</th>\n",
       "      <td>1</td>\n",
       "      <td>[1753811776]</td>\n",
       "      <td>0</td>\n",
       "    </tr>\n",
       "    <tr>\n",
       "      <th>106819588</th>\n",
       "      <td>3</td>\n",
       "      <td>[1753811777, 1753811778, 1753811779]</td>\n",
       "      <td>0</td>\n",
       "    </tr>\n",
       "    <tr>\n",
       "      <th>106819589</th>\n",
       "      <td>1</td>\n",
       "      <td>[1753811780]</td>\n",
       "      <td>0</td>\n",
       "    </tr>\n",
       "    <tr>\n",
       "      <th>106819590</th>\n",
       "      <td>1</td>\n",
       "      <td>[1753811781]</td>\n",
       "      <td>0</td>\n",
       "    </tr>\n",
       "    <tr>\n",
       "      <th>106819592</th>\n",
       "      <td>1</td>\n",
       "      <td>[1753811783]</td>\n",
       "      <td>0</td>\n",
       "    </tr>\n",
       "  </tbody>\n",
       "</table>\n",
       "<p>13855 rows × 3 columns</p>\n",
       "</div>\n",
       "    <div class=\"colab-df-buttons\">\n",
       "\n",
       "  <div class=\"colab-df-container\">\n",
       "    <button class=\"colab-df-convert\" onclick=\"convertToInteractive('df-18ceca0b-f363-4068-b9d2-92b05200eb94')\"\n",
       "            title=\"Convert this dataframe to an interactive table.\"\n",
       "            style=\"display:none;\">\n",
       "\n",
       "  <svg xmlns=\"http://www.w3.org/2000/svg\" height=\"24px\" viewBox=\"0 -960 960 960\">\n",
       "    <path d=\"M120-120v-720h720v720H120Zm60-500h600v-160H180v160Zm220 220h160v-160H400v160Zm0 220h160v-160H400v160ZM180-400h160v-160H180v160Zm440 0h160v-160H620v160ZM180-180h160v-160H180v160Zm440 0h160v-160H620v160Z\"/>\n",
       "  </svg>\n",
       "    </button>\n",
       "\n",
       "  <style>\n",
       "    .colab-df-container {\n",
       "      display:flex;\n",
       "      gap: 12px;\n",
       "    }\n",
       "\n",
       "    .colab-df-convert {\n",
       "      background-color: #E8F0FE;\n",
       "      border: none;\n",
       "      border-radius: 50%;\n",
       "      cursor: pointer;\n",
       "      display: none;\n",
       "      fill: #1967D2;\n",
       "      height: 32px;\n",
       "      padding: 0 0 0 0;\n",
       "      width: 32px;\n",
       "    }\n",
       "\n",
       "    .colab-df-convert:hover {\n",
       "      background-color: #E2EBFA;\n",
       "      box-shadow: 0px 1px 2px rgba(60, 64, 67, 0.3), 0px 1px 3px 1px rgba(60, 64, 67, 0.15);\n",
       "      fill: #174EA6;\n",
       "    }\n",
       "\n",
       "    .colab-df-buttons div {\n",
       "      margin-bottom: 4px;\n",
       "    }\n",
       "\n",
       "    [theme=dark] .colab-df-convert {\n",
       "      background-color: #3B4455;\n",
       "      fill: #D2E3FC;\n",
       "    }\n",
       "\n",
       "    [theme=dark] .colab-df-convert:hover {\n",
       "      background-color: #434B5C;\n",
       "      box-shadow: 0px 1px 3px 1px rgba(0, 0, 0, 0.15);\n",
       "      filter: drop-shadow(0px 1px 2px rgba(0, 0, 0, 0.3));\n",
       "      fill: #FFFFFF;\n",
       "    }\n",
       "  </style>\n",
       "\n",
       "    <script>\n",
       "      const buttonEl =\n",
       "        document.querySelector('#df-18ceca0b-f363-4068-b9d2-92b05200eb94 button.colab-df-convert');\n",
       "      buttonEl.style.display =\n",
       "        google.colab.kernel.accessAllowed ? 'block' : 'none';\n",
       "\n",
       "      async function convertToInteractive(key) {\n",
       "        const element = document.querySelector('#df-18ceca0b-f363-4068-b9d2-92b05200eb94');\n",
       "        const dataTable =\n",
       "          await google.colab.kernel.invokeFunction('convertToInteractive',\n",
       "                                                    [key], {});\n",
       "        if (!dataTable) return;\n",
       "\n",
       "        const docLinkHtml = 'Like what you see? Visit the ' +\n",
       "          '<a target=\"_blank\" href=https://colab.research.google.com/notebooks/data_table.ipynb>data table notebook</a>'\n",
       "          + ' to learn more about interactive tables.';\n",
       "        element.innerHTML = '';\n",
       "        dataTable['output_type'] = 'display_data';\n",
       "        await google.colab.output.renderOutput(dataTable, element);\n",
       "        const docLink = document.createElement('div');\n",
       "        docLink.innerHTML = docLinkHtml;\n",
       "        element.appendChild(docLink);\n",
       "      }\n",
       "    </script>\n",
       "  </div>\n",
       "\n",
       "\n",
       "<div id=\"df-9af60e36-2aa9-4a94-9d98-47ed864b643c\">\n",
       "  <button class=\"colab-df-quickchart\" onclick=\"quickchart('df-9af60e36-2aa9-4a94-9d98-47ed864b643c')\"\n",
       "            title=\"Suggest charts.\"\n",
       "            style=\"display:none;\">\n",
       "\n",
       "<svg xmlns=\"http://www.w3.org/2000/svg\" height=\"24px\"viewBox=\"0 0 24 24\"\n",
       "     width=\"24px\">\n",
       "    <g>\n",
       "        <path d=\"M19 3H5c-1.1 0-2 .9-2 2v14c0 1.1.9 2 2 2h14c1.1 0 2-.9 2-2V5c0-1.1-.9-2-2-2zM9 17H7v-7h2v7zm4 0h-2V7h2v10zm4 0h-2v-4h2v4z\"/>\n",
       "    </g>\n",
       "</svg>\n",
       "  </button>\n",
       "\n",
       "<style>\n",
       "  .colab-df-quickchart {\n",
       "    background-color: #E8F0FE;\n",
       "    border: none;\n",
       "    border-radius: 50%;\n",
       "    cursor: pointer;\n",
       "    display: none;\n",
       "    fill: #1967D2;\n",
       "    height: 32px;\n",
       "    padding: 0 0 0 0;\n",
       "    width: 32px;\n",
       "  }\n",
       "\n",
       "  .colab-df-quickchart:hover {\n",
       "    background-color: #E2EBFA;\n",
       "    box-shadow: 0px 1px 2px rgba(60, 64, 67, 0.3), 0px 1px 3px 1px rgba(60, 64, 67, 0.15);\n",
       "    fill: #174EA6;\n",
       "  }\n",
       "\n",
       "  [theme=dark] .colab-df-quickchart {\n",
       "    background-color: #3B4455;\n",
       "    fill: #D2E3FC;\n",
       "  }\n",
       "\n",
       "  [theme=dark] .colab-df-quickchart:hover {\n",
       "    background-color: #434B5C;\n",
       "    box-shadow: 0px 1px 3px 1px rgba(0, 0, 0, 0.15);\n",
       "    filter: drop-shadow(0px 1px 2px rgba(0, 0, 0, 0.3));\n",
       "    fill: #FFFFFF;\n",
       "  }\n",
       "</style>\n",
       "\n",
       "  <script>\n",
       "    async function quickchart(key) {\n",
       "      const charts = await google.colab.kernel.invokeFunction(\n",
       "          'suggestCharts', [key], {});\n",
       "    }\n",
       "    (() => {\n",
       "      let quickchartButtonEl =\n",
       "        document.querySelector('#df-9af60e36-2aa9-4a94-9d98-47ed864b643c button');\n",
       "      quickchartButtonEl.style.display =\n",
       "        google.colab.kernel.accessAllowed ? 'block' : 'none';\n",
       "    })();\n",
       "  </script>\n",
       "</div>\n",
       "    </div>\n",
       "  </div>\n"
      ]
     },
     "metadata": {},
     "execution_count": 20
    }
   ]
  },
  {
   "cell_type": "code",
   "source": [
    "df_grouped.columns = [col[1] for col in df_grouped.columns.values]"
   ],
   "metadata": {
    "id": "_LM0x6M1HDT2"
   },
   "execution_count": null,
   "outputs": []
  },
  {
   "cell_type": "code",
   "source": [
    "df_grouped.rename(columns = {\"nunique\": \"LOAN_NUM_TOTAL\", \"list\": \"LOANS\", \"\": \"LOAN_NUM_CLOSED\"}, inplace=True) # переименуем названия столбцов"
   ],
   "metadata": {
    "id": "aPB1hBY3H00x"
   },
   "execution_count": null,
   "outputs": []
  },
  {
   "cell_type": "code",
   "source": [
    "df_grouped.reset_index(inplace=True, drop=True) # обновим индексы"
   ],
   "metadata": {
    "id": "WtKq-h9BeBL0"
   },
   "execution_count": null,
   "outputs": []
  },
  {
   "cell_type": "code",
   "source": [
    "for i in range(len(df_grouped)): # проходимся по всем строкам новой таблицы с агрегированными признаками\n",
    "    nums = 0 # количество закрытых кредитов\n",
    "    for j in range(len(df_grouped.loc[i][\"LOANS\"])): # поочерёдно считываем идентификаторы взятых кредитов\n",
    "        loan_num = df_grouped.loc[i][\"LOANS\"][j] # идентификатор взятого кредита\n",
    "        index = np.where(df_close_loan[\"ID_LOAN\"].values == loan_num)[0][0] # находим индекс по идентификатору в другой таблице\n",
    "        val = df_close_loan.loc[index][\"CLOSED_FL\"] # вычисляем, закрыт ли данный кредит(1 - закрыт, 0 - нет)\n",
    "        if val == 1:\n",
    "            nums += 1\n",
    "    df_grouped.at[i, \"LOAN_NUM_CLOSED\"] = nums # обновляем значение количества закрытых кредитов\n",
    "\n"
   ],
   "metadata": {
    "id": "t1rsEJBAYDwn"
   },
   "execution_count": null,
   "outputs": []
  },
  {
   "cell_type": "code",
   "source": [
    "df_close_loan"
   ],
   "metadata": {
    "colab": {
     "base_uri": "https://localhost:8080/",
     "height": 424
    },
    "id": "eR-wOzH0YhUw",
    "outputId": "63b8a16b-caba-4a98-86f0-06173b519032"
   },
   "execution_count": null,
   "outputs": [
    {
     "output_type": "execute_result",
     "data": {
      "text/plain": [
       "          ID_LOAN  CLOSED_FL\n",
       "0      1753790658          1\n",
       "1      1753790659          1\n",
       "2      1753790660          1\n",
       "3      1753790661          0\n",
       "4      1753790662          1\n",
       "...           ...        ...\n",
       "21121  1753811779          1\n",
       "21122  1753811780          0\n",
       "21123  1753811781          0\n",
       "21124  1753811782          0\n",
       "21125  1753811783          0\n",
       "\n",
       "[21126 rows x 2 columns]"
      ],
      "text/html": [
       "\n",
       "  <div id=\"df-2d18a3bb-d066-41d0-b50a-fa3330b90e3f\" class=\"colab-df-container\">\n",
       "    <div>\n",
       "<style scoped>\n",
       "    .dataframe tbody tr th:only-of-type {\n",
       "        vertical-align: middle;\n",
       "    }\n",
       "\n",
       "    .dataframe tbody tr th {\n",
       "        vertical-align: top;\n",
       "    }\n",
       "\n",
       "    .dataframe thead th {\n",
       "        text-align: right;\n",
       "    }\n",
       "</style>\n",
       "<table border=\"1\" class=\"dataframe\">\n",
       "  <thead>\n",
       "    <tr style=\"text-align: right;\">\n",
       "      <th></th>\n",
       "      <th>ID_LOAN</th>\n",
       "      <th>CLOSED_FL</th>\n",
       "    </tr>\n",
       "  </thead>\n",
       "  <tbody>\n",
       "    <tr>\n",
       "      <th>0</th>\n",
       "      <td>1753790658</td>\n",
       "      <td>1</td>\n",
       "    </tr>\n",
       "    <tr>\n",
       "      <th>1</th>\n",
       "      <td>1753790659</td>\n",
       "      <td>1</td>\n",
       "    </tr>\n",
       "    <tr>\n",
       "      <th>2</th>\n",
       "      <td>1753790660</td>\n",
       "      <td>1</td>\n",
       "    </tr>\n",
       "    <tr>\n",
       "      <th>3</th>\n",
       "      <td>1753790661</td>\n",
       "      <td>0</td>\n",
       "    </tr>\n",
       "    <tr>\n",
       "      <th>4</th>\n",
       "      <td>1753790662</td>\n",
       "      <td>1</td>\n",
       "    </tr>\n",
       "    <tr>\n",
       "      <th>...</th>\n",
       "      <td>...</td>\n",
       "      <td>...</td>\n",
       "    </tr>\n",
       "    <tr>\n",
       "      <th>21121</th>\n",
       "      <td>1753811779</td>\n",
       "      <td>1</td>\n",
       "    </tr>\n",
       "    <tr>\n",
       "      <th>21122</th>\n",
       "      <td>1753811780</td>\n",
       "      <td>0</td>\n",
       "    </tr>\n",
       "    <tr>\n",
       "      <th>21123</th>\n",
       "      <td>1753811781</td>\n",
       "      <td>0</td>\n",
       "    </tr>\n",
       "    <tr>\n",
       "      <th>21124</th>\n",
       "      <td>1753811782</td>\n",
       "      <td>0</td>\n",
       "    </tr>\n",
       "    <tr>\n",
       "      <th>21125</th>\n",
       "      <td>1753811783</td>\n",
       "      <td>0</td>\n",
       "    </tr>\n",
       "  </tbody>\n",
       "</table>\n",
       "<p>21126 rows × 2 columns</p>\n",
       "</div>\n",
       "    <div class=\"colab-df-buttons\">\n",
       "\n",
       "  <div class=\"colab-df-container\">\n",
       "    <button class=\"colab-df-convert\" onclick=\"convertToInteractive('df-2d18a3bb-d066-41d0-b50a-fa3330b90e3f')\"\n",
       "            title=\"Convert this dataframe to an interactive table.\"\n",
       "            style=\"display:none;\">\n",
       "\n",
       "  <svg xmlns=\"http://www.w3.org/2000/svg\" height=\"24px\" viewBox=\"0 -960 960 960\">\n",
       "    <path d=\"M120-120v-720h720v720H120Zm60-500h600v-160H180v160Zm220 220h160v-160H400v160Zm0 220h160v-160H400v160ZM180-400h160v-160H180v160Zm440 0h160v-160H620v160ZM180-180h160v-160H180v160Zm440 0h160v-160H620v160Z\"/>\n",
       "  </svg>\n",
       "    </button>\n",
       "\n",
       "  <style>\n",
       "    .colab-df-container {\n",
       "      display:flex;\n",
       "      gap: 12px;\n",
       "    }\n",
       "\n",
       "    .colab-df-convert {\n",
       "      background-color: #E8F0FE;\n",
       "      border: none;\n",
       "      border-radius: 50%;\n",
       "      cursor: pointer;\n",
       "      display: none;\n",
       "      fill: #1967D2;\n",
       "      height: 32px;\n",
       "      padding: 0 0 0 0;\n",
       "      width: 32px;\n",
       "    }\n",
       "\n",
       "    .colab-df-convert:hover {\n",
       "      background-color: #E2EBFA;\n",
       "      box-shadow: 0px 1px 2px rgba(60, 64, 67, 0.3), 0px 1px 3px 1px rgba(60, 64, 67, 0.15);\n",
       "      fill: #174EA6;\n",
       "    }\n",
       "\n",
       "    .colab-df-buttons div {\n",
       "      margin-bottom: 4px;\n",
       "    }\n",
       "\n",
       "    [theme=dark] .colab-df-convert {\n",
       "      background-color: #3B4455;\n",
       "      fill: #D2E3FC;\n",
       "    }\n",
       "\n",
       "    [theme=dark] .colab-df-convert:hover {\n",
       "      background-color: #434B5C;\n",
       "      box-shadow: 0px 1px 3px 1px rgba(0, 0, 0, 0.15);\n",
       "      filter: drop-shadow(0px 1px 2px rgba(0, 0, 0, 0.3));\n",
       "      fill: #FFFFFF;\n",
       "    }\n",
       "  </style>\n",
       "\n",
       "    <script>\n",
       "      const buttonEl =\n",
       "        document.querySelector('#df-2d18a3bb-d066-41d0-b50a-fa3330b90e3f button.colab-df-convert');\n",
       "      buttonEl.style.display =\n",
       "        google.colab.kernel.accessAllowed ? 'block' : 'none';\n",
       "\n",
       "      async function convertToInteractive(key) {\n",
       "        const element = document.querySelector('#df-2d18a3bb-d066-41d0-b50a-fa3330b90e3f');\n",
       "        const dataTable =\n",
       "          await google.colab.kernel.invokeFunction('convertToInteractive',\n",
       "                                                    [key], {});\n",
       "        if (!dataTable) return;\n",
       "\n",
       "        const docLinkHtml = 'Like what you see? Visit the ' +\n",
       "          '<a target=\"_blank\" href=https://colab.research.google.com/notebooks/data_table.ipynb>data table notebook</a>'\n",
       "          + ' to learn more about interactive tables.';\n",
       "        element.innerHTML = '';\n",
       "        dataTable['output_type'] = 'display_data';\n",
       "        await google.colab.output.renderOutput(dataTable, element);\n",
       "        const docLink = document.createElement('div');\n",
       "        docLink.innerHTML = docLinkHtml;\n",
       "        element.appendChild(docLink);\n",
       "      }\n",
       "    </script>\n",
       "  </div>\n",
       "\n",
       "\n",
       "<div id=\"df-67c89154-3d32-41a7-a611-78df072e12b3\">\n",
       "  <button class=\"colab-df-quickchart\" onclick=\"quickchart('df-67c89154-3d32-41a7-a611-78df072e12b3')\"\n",
       "            title=\"Suggest charts.\"\n",
       "            style=\"display:none;\">\n",
       "\n",
       "<svg xmlns=\"http://www.w3.org/2000/svg\" height=\"24px\"viewBox=\"0 0 24 24\"\n",
       "     width=\"24px\">\n",
       "    <g>\n",
       "        <path d=\"M19 3H5c-1.1 0-2 .9-2 2v14c0 1.1.9 2 2 2h14c1.1 0 2-.9 2-2V5c0-1.1-.9-2-2-2zM9 17H7v-7h2v7zm4 0h-2V7h2v10zm4 0h-2v-4h2v4z\"/>\n",
       "    </g>\n",
       "</svg>\n",
       "  </button>\n",
       "\n",
       "<style>\n",
       "  .colab-df-quickchart {\n",
       "    background-color: #E8F0FE;\n",
       "    border: none;\n",
       "    border-radius: 50%;\n",
       "    cursor: pointer;\n",
       "    display: none;\n",
       "    fill: #1967D2;\n",
       "    height: 32px;\n",
       "    padding: 0 0 0 0;\n",
       "    width: 32px;\n",
       "  }\n",
       "\n",
       "  .colab-df-quickchart:hover {\n",
       "    background-color: #E2EBFA;\n",
       "    box-shadow: 0px 1px 2px rgba(60, 64, 67, 0.3), 0px 1px 3px 1px rgba(60, 64, 67, 0.15);\n",
       "    fill: #174EA6;\n",
       "  }\n",
       "\n",
       "  [theme=dark] .colab-df-quickchart {\n",
       "    background-color: #3B4455;\n",
       "    fill: #D2E3FC;\n",
       "  }\n",
       "\n",
       "  [theme=dark] .colab-df-quickchart:hover {\n",
       "    background-color: #434B5C;\n",
       "    box-shadow: 0px 1px 3px 1px rgba(0, 0, 0, 0.15);\n",
       "    filter: drop-shadow(0px 1px 2px rgba(0, 0, 0, 0.3));\n",
       "    fill: #FFFFFF;\n",
       "  }\n",
       "</style>\n",
       "\n",
       "  <script>\n",
       "    async function quickchart(key) {\n",
       "      const charts = await google.colab.kernel.invokeFunction(\n",
       "          'suggestCharts', [key], {});\n",
       "    }\n",
       "    (() => {\n",
       "      let quickchartButtonEl =\n",
       "        document.querySelector('#df-67c89154-3d32-41a7-a611-78df072e12b3 button');\n",
       "      quickchartButtonEl.style.display =\n",
       "        google.colab.kernel.accessAllowed ? 'block' : 'none';\n",
       "    })();\n",
       "  </script>\n",
       "</div>\n",
       "    </div>\n",
       "  </div>\n"
      ]
     },
     "metadata": {},
     "execution_count": 25
    }
   ]
  },
  {
   "cell_type": "code",
   "source": [
    "df_grouped"
   ],
   "metadata": {
    "colab": {
     "base_uri": "https://localhost:8080/",
     "height": 424
    },
    "id": "DqjdyJdQeagM",
    "outputId": "47655b30-857f-440a-b35b-72e2587b8ca7"
   },
   "execution_count": null,
   "outputs": [
    {
     "output_type": "execute_result",
     "data": {
      "text/plain": [
       "       LOAN_NUM_TOTAL                                 LOANS  LOAN_NUM_CLOSED\n",
       "0                   1                          [1753790658]                1\n",
       "1                   1                          [1753790659]                1\n",
       "2                   2              [1753790660, 1753790661]                1\n",
       "3                   1                          [1753790662]                1\n",
       "4                   2              [1753790663, 1753790664]                1\n",
       "...               ...                                   ...              ...\n",
       "13850               1                          [1753811776]                0\n",
       "13851               3  [1753811777, 1753811778, 1753811779]                2\n",
       "13852               1                          [1753811780]                0\n",
       "13853               1                          [1753811781]                0\n",
       "13854               1                          [1753811783]                0\n",
       "\n",
       "[13855 rows x 3 columns]"
      ],
      "text/html": [
       "\n",
       "  <div id=\"df-13ff3f5a-ed79-459c-a9a0-25c2a0a67fae\" class=\"colab-df-container\">\n",
       "    <div>\n",
       "<style scoped>\n",
       "    .dataframe tbody tr th:only-of-type {\n",
       "        vertical-align: middle;\n",
       "    }\n",
       "\n",
       "    .dataframe tbody tr th {\n",
       "        vertical-align: top;\n",
       "    }\n",
       "\n",
       "    .dataframe thead th {\n",
       "        text-align: right;\n",
       "    }\n",
       "</style>\n",
       "<table border=\"1\" class=\"dataframe\">\n",
       "  <thead>\n",
       "    <tr style=\"text-align: right;\">\n",
       "      <th></th>\n",
       "      <th>LOAN_NUM_TOTAL</th>\n",
       "      <th>LOANS</th>\n",
       "      <th>LOAN_NUM_CLOSED</th>\n",
       "    </tr>\n",
       "  </thead>\n",
       "  <tbody>\n",
       "    <tr>\n",
       "      <th>0</th>\n",
       "      <td>1</td>\n",
       "      <td>[1753790658]</td>\n",
       "      <td>1</td>\n",
       "    </tr>\n",
       "    <tr>\n",
       "      <th>1</th>\n",
       "      <td>1</td>\n",
       "      <td>[1753790659]</td>\n",
       "      <td>1</td>\n",
       "    </tr>\n",
       "    <tr>\n",
       "      <th>2</th>\n",
       "      <td>2</td>\n",
       "      <td>[1753790660, 1753790661]</td>\n",
       "      <td>1</td>\n",
       "    </tr>\n",
       "    <tr>\n",
       "      <th>3</th>\n",
       "      <td>1</td>\n",
       "      <td>[1753790662]</td>\n",
       "      <td>1</td>\n",
       "    </tr>\n",
       "    <tr>\n",
       "      <th>4</th>\n",
       "      <td>2</td>\n",
       "      <td>[1753790663, 1753790664]</td>\n",
       "      <td>1</td>\n",
       "    </tr>\n",
       "    <tr>\n",
       "      <th>...</th>\n",
       "      <td>...</td>\n",
       "      <td>...</td>\n",
       "      <td>...</td>\n",
       "    </tr>\n",
       "    <tr>\n",
       "      <th>13850</th>\n",
       "      <td>1</td>\n",
       "      <td>[1753811776]</td>\n",
       "      <td>0</td>\n",
       "    </tr>\n",
       "    <tr>\n",
       "      <th>13851</th>\n",
       "      <td>3</td>\n",
       "      <td>[1753811777, 1753811778, 1753811779]</td>\n",
       "      <td>2</td>\n",
       "    </tr>\n",
       "    <tr>\n",
       "      <th>13852</th>\n",
       "      <td>1</td>\n",
       "      <td>[1753811780]</td>\n",
       "      <td>0</td>\n",
       "    </tr>\n",
       "    <tr>\n",
       "      <th>13853</th>\n",
       "      <td>1</td>\n",
       "      <td>[1753811781]</td>\n",
       "      <td>0</td>\n",
       "    </tr>\n",
       "    <tr>\n",
       "      <th>13854</th>\n",
       "      <td>1</td>\n",
       "      <td>[1753811783]</td>\n",
       "      <td>0</td>\n",
       "    </tr>\n",
       "  </tbody>\n",
       "</table>\n",
       "<p>13855 rows × 3 columns</p>\n",
       "</div>\n",
       "    <div class=\"colab-df-buttons\">\n",
       "\n",
       "  <div class=\"colab-df-container\">\n",
       "    <button class=\"colab-df-convert\" onclick=\"convertToInteractive('df-13ff3f5a-ed79-459c-a9a0-25c2a0a67fae')\"\n",
       "            title=\"Convert this dataframe to an interactive table.\"\n",
       "            style=\"display:none;\">\n",
       "\n",
       "  <svg xmlns=\"http://www.w3.org/2000/svg\" height=\"24px\" viewBox=\"0 -960 960 960\">\n",
       "    <path d=\"M120-120v-720h720v720H120Zm60-500h600v-160H180v160Zm220 220h160v-160H400v160Zm0 220h160v-160H400v160ZM180-400h160v-160H180v160Zm440 0h160v-160H620v160ZM180-180h160v-160H180v160Zm440 0h160v-160H620v160Z\"/>\n",
       "  </svg>\n",
       "    </button>\n",
       "\n",
       "  <style>\n",
       "    .colab-df-container {\n",
       "      display:flex;\n",
       "      gap: 12px;\n",
       "    }\n",
       "\n",
       "    .colab-df-convert {\n",
       "      background-color: #E8F0FE;\n",
       "      border: none;\n",
       "      border-radius: 50%;\n",
       "      cursor: pointer;\n",
       "      display: none;\n",
       "      fill: #1967D2;\n",
       "      height: 32px;\n",
       "      padding: 0 0 0 0;\n",
       "      width: 32px;\n",
       "    }\n",
       "\n",
       "    .colab-df-convert:hover {\n",
       "      background-color: #E2EBFA;\n",
       "      box-shadow: 0px 1px 2px rgba(60, 64, 67, 0.3), 0px 1px 3px 1px rgba(60, 64, 67, 0.15);\n",
       "      fill: #174EA6;\n",
       "    }\n",
       "\n",
       "    .colab-df-buttons div {\n",
       "      margin-bottom: 4px;\n",
       "    }\n",
       "\n",
       "    [theme=dark] .colab-df-convert {\n",
       "      background-color: #3B4455;\n",
       "      fill: #D2E3FC;\n",
       "    }\n",
       "\n",
       "    [theme=dark] .colab-df-convert:hover {\n",
       "      background-color: #434B5C;\n",
       "      box-shadow: 0px 1px 3px 1px rgba(0, 0, 0, 0.15);\n",
       "      filter: drop-shadow(0px 1px 2px rgba(0, 0, 0, 0.3));\n",
       "      fill: #FFFFFF;\n",
       "    }\n",
       "  </style>\n",
       "\n",
       "    <script>\n",
       "      const buttonEl =\n",
       "        document.querySelector('#df-13ff3f5a-ed79-459c-a9a0-25c2a0a67fae button.colab-df-convert');\n",
       "      buttonEl.style.display =\n",
       "        google.colab.kernel.accessAllowed ? 'block' : 'none';\n",
       "\n",
       "      async function convertToInteractive(key) {\n",
       "        const element = document.querySelector('#df-13ff3f5a-ed79-459c-a9a0-25c2a0a67fae');\n",
       "        const dataTable =\n",
       "          await google.colab.kernel.invokeFunction('convertToInteractive',\n",
       "                                                    [key], {});\n",
       "        if (!dataTable) return;\n",
       "\n",
       "        const docLinkHtml = 'Like what you see? Visit the ' +\n",
       "          '<a target=\"_blank\" href=https://colab.research.google.com/notebooks/data_table.ipynb>data table notebook</a>'\n",
       "          + ' to learn more about interactive tables.';\n",
       "        element.innerHTML = '';\n",
       "        dataTable['output_type'] = 'display_data';\n",
       "        await google.colab.output.renderOutput(dataTable, element);\n",
       "        const docLink = document.createElement('div');\n",
       "        docLink.innerHTML = docLinkHtml;\n",
       "        element.appendChild(docLink);\n",
       "      }\n",
       "    </script>\n",
       "  </div>\n",
       "\n",
       "\n",
       "<div id=\"df-b6867e66-9e21-42d7-a635-727b7962933c\">\n",
       "  <button class=\"colab-df-quickchart\" onclick=\"quickchart('df-b6867e66-9e21-42d7-a635-727b7962933c')\"\n",
       "            title=\"Suggest charts.\"\n",
       "            style=\"display:none;\">\n",
       "\n",
       "<svg xmlns=\"http://www.w3.org/2000/svg\" height=\"24px\"viewBox=\"0 0 24 24\"\n",
       "     width=\"24px\">\n",
       "    <g>\n",
       "        <path d=\"M19 3H5c-1.1 0-2 .9-2 2v14c0 1.1.9 2 2 2h14c1.1 0 2-.9 2-2V5c0-1.1-.9-2-2-2zM9 17H7v-7h2v7zm4 0h-2V7h2v10zm4 0h-2v-4h2v4z\"/>\n",
       "    </g>\n",
       "</svg>\n",
       "  </button>\n",
       "\n",
       "<style>\n",
       "  .colab-df-quickchart {\n",
       "    background-color: #E8F0FE;\n",
       "    border: none;\n",
       "    border-radius: 50%;\n",
       "    cursor: pointer;\n",
       "    display: none;\n",
       "    fill: #1967D2;\n",
       "    height: 32px;\n",
       "    padding: 0 0 0 0;\n",
       "    width: 32px;\n",
       "  }\n",
       "\n",
       "  .colab-df-quickchart:hover {\n",
       "    background-color: #E2EBFA;\n",
       "    box-shadow: 0px 1px 2px rgba(60, 64, 67, 0.3), 0px 1px 3px 1px rgba(60, 64, 67, 0.15);\n",
       "    fill: #174EA6;\n",
       "  }\n",
       "\n",
       "  [theme=dark] .colab-df-quickchart {\n",
       "    background-color: #3B4455;\n",
       "    fill: #D2E3FC;\n",
       "  }\n",
       "\n",
       "  [theme=dark] .colab-df-quickchart:hover {\n",
       "    background-color: #434B5C;\n",
       "    box-shadow: 0px 1px 3px 1px rgba(0, 0, 0, 0.15);\n",
       "    filter: drop-shadow(0px 1px 2px rgba(0, 0, 0, 0.3));\n",
       "    fill: #FFFFFF;\n",
       "  }\n",
       "</style>\n",
       "\n",
       "  <script>\n",
       "    async function quickchart(key) {\n",
       "      const charts = await google.colab.kernel.invokeFunction(\n",
       "          'suggestCharts', [key], {});\n",
       "    }\n",
       "    (() => {\n",
       "      let quickchartButtonEl =\n",
       "        document.querySelector('#df-b6867e66-9e21-42d7-a635-727b7962933c button');\n",
       "      quickchartButtonEl.style.display =\n",
       "        google.colab.kernel.accessAllowed ? 'block' : 'none';\n",
       "    })();\n",
       "  </script>\n",
       "</div>\n",
       "    </div>\n",
       "  </div>\n"
      ]
     },
     "metadata": {},
     "execution_count": 26
    }
   ]
  },
  {
   "cell_type": "markdown",
   "source": [
    "Выбросим повторяющиеся столбцы, чтобы не было коллизии названий. Унифицируем индексы для всех таблиц, чтобы они склеились без проблем."
   ],
   "metadata": {
    "id": "MsiARx7jn6te"
   }
  },
  {
   "cell_type": "code",
   "source": [
    "df_grouped.drop([\"LOANS\"], axis=1, inplace=True)\n",
    "df_job.drop([\"ID_CLIENT\"], axis=1, inplace=True)\n",
    "df_salary.drop([\"ID_CLIENT\"], axis=1, inplace=True)\n",
    "df_last_credit.drop([\"ID_CLIENT\"], axis=1, inplace=True)\n",
    "df_target.drop([\"ID_CLIENT\"], axis=1, inplace=True)\n",
    "df_clients.drop([\"ID\"], axis=1, inplace=True)"
   ],
   "metadata": {
    "id": "5lhZm7R9f2RR"
   },
   "execution_count": null,
   "outputs": []
  },
  {
   "cell_type": "code",
   "source": [
    "df_grouped.reset_index(inplace=True, drop=True)\n",
    "df_job.reset_index(inplace=True, drop=True)\n",
    "df_salary.reset_index(inplace=True, drop=True)\n",
    "df_last_credit.reset_index(inplace=True, drop=True)\n",
    "df_target.reset_index(inplace=True, drop=True)\n",
    "df_clients.reset_index(inplace=True, drop=True)\n"
   ],
   "metadata": {
    "id": "sP3dJ855jCHJ"
   },
   "execution_count": null,
   "outputs": []
  },
  {
   "cell_type": "code",
   "source": [
    "df = pd.concat([df_job, df_salary, df_last_credit, df_target, df_clients, df_grouped], axis=1)"
   ],
   "metadata": {
    "id": "bb3aNZUPfC7t"
   },
   "execution_count": null,
   "outputs": []
  },
  {
   "cell_type": "code",
   "source": [
    "df"
   ],
   "metadata": {
    "colab": {
     "base_uri": "https://localhost:8080/",
     "height": 652
    },
    "id": "T0zICUJBjU6O",
    "outputId": "a8ad5030-4f9b-4171-d842-106f627c4fea"
   },
   "execution_count": null,
   "outputs": [
    {
     "output_type": "execute_result",
     "data": {
      "text/plain": [
       "                                    GEN_INDUSTRY                    GEN_TITLE  \\\n",
       "0                                       Торговля                      Рабочий   \n",
       "1                                       Торговля                      Рабочий   \n",
       "2                      Информационные технологии                   Специалист   \n",
       "3                                    Образование  Руководитель среднего звена   \n",
       "4                         Государственная служба                   Специалист   \n",
       "...                                          ...                          ...   \n",
       "13850  Металлургия/Промышленность/Машиностроение                   Специалист   \n",
       "13851                              Строительство                   Специалист   \n",
       "13852                            Здравоохранение                       Другое   \n",
       "13853                                   Торговля                     Служащий   \n",
       "13854                                  Транспорт                   Специалист   \n",
       "\n",
       "                             JOB_DIR  WORK_TIME           FAMILY_INCOME  \\\n",
       "0        Вспомогательный техперсонал       18.0  от 10000 до 20000 руб.   \n",
       "1      Участие в основ. деятельности       97.0  от 10000 до 20000 руб.   \n",
       "2      Участие в основ. деятельности       84.0  от 10000 до 20000 руб.   \n",
       "3      Участие в основ. деятельности      168.0  от 20000 до 50000 руб.   \n",
       "4      Участие в основ. деятельности      101.0  от 10000 до 20000 руб.   \n",
       "...                              ...        ...                     ...   \n",
       "13850  Участие в основ. деятельности      108.0  от 10000 до 20000 руб.   \n",
       "13851  Участие в основ. деятельности       48.0  от 10000 до 20000 руб.   \n",
       "13852  Участие в основ. деятельности      156.0  от 20000 до 50000 руб.   \n",
       "13853  Кадровая служба и секретариат       48.0   от 5000 до 10000 руб.   \n",
       "13854  Участие в основ. деятельности       36.0  от 20000 до 50000 руб.   \n",
       "\n",
       "       PERSONAL_INCOME    CREDIT  TERM  FST_PAYMENT  AGREEMENT_RK  ...  \\\n",
       "0               5000.0   8000.00     6       8650.0      59910150  ...   \n",
       "1              12000.0  21650.00     6       4000.0      59910230  ...   \n",
       "2               9000.0  33126.00    12       4000.0      59910525  ...   \n",
       "3              25000.0   8491.82     6       5000.0      59910803  ...   \n",
       "4              12000.0  21990.00    12       4000.0      59911781  ...   \n",
       "...                ...       ...   ...          ...           ...  ...   \n",
       "13850          10000.0  22930.00     6       2550.0      75291338  ...   \n",
       "13851          12000.0  13450.00    10       1500.0      75291424  ...   \n",
       "13852          10000.0   8991.00     6       4000.0      75291888  ...   \n",
       "13853           6000.0   2700.00     6        800.0      75291923  ...   \n",
       "13854          20000.0  10245.00     6       1200.0      75292242  ...   \n",
       "\n",
       "       DEPENDANTS  SOCSTATUS_WORK_FL  SOCSTATUS_PENS_FL  REG_ADDRESS_PROVINCE  \\\n",
       "0               1                  1                  0  Оренбургская область   \n",
       "1               3                  1                  0    Кабардино-Балкария   \n",
       "2               0                  1                  0     Иркутская область   \n",
       "3               1                  1                  0    Ростовская область   \n",
       "4               0                  1                  0    Кабардино-Балкария   \n",
       "...           ...                ...                ...                   ...   \n",
       "13850           1                  1                  0    Тамбовская область   \n",
       "13851           1                  1                  0   Воронежская область   \n",
       "13852           0                  1                  0              Башкирия   \n",
       "13853           1                  1                  0      Брянская область   \n",
       "13854           0                  1                  0    Карачаево-Черкесия   \n",
       "\n",
       "      FACT_ADDRESS_PROVINCE  POSTAL_ADDRESS_PROVINCE  FL_PRESENCE_FL  \\\n",
       "0      Оренбургская область     Оренбургская область               0   \n",
       "1        Кабардино-Балкария       Кабардино-Балкария               0   \n",
       "2         Иркутская область        Иркутская область               0   \n",
       "3        Ростовская область       Ростовская область               1   \n",
       "4        Кабардино-Балкария       Кабардино-Балкария               0   \n",
       "...                     ...                      ...             ...   \n",
       "13850    Тамбовская область       Тамбовская область               0   \n",
       "13851   Воронежская область      Воронежская область               0   \n",
       "13852              Башкирия                 Башкирия               0   \n",
       "13853      Брянская область         Брянская область               0   \n",
       "13854    Карачаево-Черкесия       Карачаево-Черкесия               0   \n",
       "\n",
       "       OWN_AUTO  LOAN_NUM_TOTAL LOAN_NUM_CLOSED  \n",
       "0             0               1               1  \n",
       "1             0               1               1  \n",
       "2             0               2               1  \n",
       "3             0               1               1  \n",
       "4             0               2               1  \n",
       "...         ...             ...             ...  \n",
       "13850         0               1               0  \n",
       "13851         0               3               2  \n",
       "13852         0               1               0  \n",
       "13853         0               1               0  \n",
       "13854         0               1               0  \n",
       "\n",
       "[13855 rows x 26 columns]"
      ],
      "text/html": [
       "\n",
       "  <div id=\"df-5a8e5a00-0a7a-433b-883e-d8df5c17d7c2\" class=\"colab-df-container\">\n",
       "    <div>\n",
       "<style scoped>\n",
       "    .dataframe tbody tr th:only-of-type {\n",
       "        vertical-align: middle;\n",
       "    }\n",
       "\n",
       "    .dataframe tbody tr th {\n",
       "        vertical-align: top;\n",
       "    }\n",
       "\n",
       "    .dataframe thead th {\n",
       "        text-align: right;\n",
       "    }\n",
       "</style>\n",
       "<table border=\"1\" class=\"dataframe\">\n",
       "  <thead>\n",
       "    <tr style=\"text-align: right;\">\n",
       "      <th></th>\n",
       "      <th>GEN_INDUSTRY</th>\n",
       "      <th>GEN_TITLE</th>\n",
       "      <th>JOB_DIR</th>\n",
       "      <th>WORK_TIME</th>\n",
       "      <th>FAMILY_INCOME</th>\n",
       "      <th>PERSONAL_INCOME</th>\n",
       "      <th>CREDIT</th>\n",
       "      <th>TERM</th>\n",
       "      <th>FST_PAYMENT</th>\n",
       "      <th>AGREEMENT_RK</th>\n",
       "      <th>...</th>\n",
       "      <th>DEPENDANTS</th>\n",
       "      <th>SOCSTATUS_WORK_FL</th>\n",
       "      <th>SOCSTATUS_PENS_FL</th>\n",
       "      <th>REG_ADDRESS_PROVINCE</th>\n",
       "      <th>FACT_ADDRESS_PROVINCE</th>\n",
       "      <th>POSTAL_ADDRESS_PROVINCE</th>\n",
       "      <th>FL_PRESENCE_FL</th>\n",
       "      <th>OWN_AUTO</th>\n",
       "      <th>LOAN_NUM_TOTAL</th>\n",
       "      <th>LOAN_NUM_CLOSED</th>\n",
       "    </tr>\n",
       "  </thead>\n",
       "  <tbody>\n",
       "    <tr>\n",
       "      <th>0</th>\n",
       "      <td>Торговля</td>\n",
       "      <td>Рабочий</td>\n",
       "      <td>Вспомогательный техперсонал</td>\n",
       "      <td>18.0</td>\n",
       "      <td>от 10000 до 20000 руб.</td>\n",
       "      <td>5000.0</td>\n",
       "      <td>8000.00</td>\n",
       "      <td>6</td>\n",
       "      <td>8650.0</td>\n",
       "      <td>59910150</td>\n",
       "      <td>...</td>\n",
       "      <td>1</td>\n",
       "      <td>1</td>\n",
       "      <td>0</td>\n",
       "      <td>Оренбургская область</td>\n",
       "      <td>Оренбургская область</td>\n",
       "      <td>Оренбургская область</td>\n",
       "      <td>0</td>\n",
       "      <td>0</td>\n",
       "      <td>1</td>\n",
       "      <td>1</td>\n",
       "    </tr>\n",
       "    <tr>\n",
       "      <th>1</th>\n",
       "      <td>Торговля</td>\n",
       "      <td>Рабочий</td>\n",
       "      <td>Участие в основ. деятельности</td>\n",
       "      <td>97.0</td>\n",
       "      <td>от 10000 до 20000 руб.</td>\n",
       "      <td>12000.0</td>\n",
       "      <td>21650.00</td>\n",
       "      <td>6</td>\n",
       "      <td>4000.0</td>\n",
       "      <td>59910230</td>\n",
       "      <td>...</td>\n",
       "      <td>3</td>\n",
       "      <td>1</td>\n",
       "      <td>0</td>\n",
       "      <td>Кабардино-Балкария</td>\n",
       "      <td>Кабардино-Балкария</td>\n",
       "      <td>Кабардино-Балкария</td>\n",
       "      <td>0</td>\n",
       "      <td>0</td>\n",
       "      <td>1</td>\n",
       "      <td>1</td>\n",
       "    </tr>\n",
       "    <tr>\n",
       "      <th>2</th>\n",
       "      <td>Информационные технологии</td>\n",
       "      <td>Специалист</td>\n",
       "      <td>Участие в основ. деятельности</td>\n",
       "      <td>84.0</td>\n",
       "      <td>от 10000 до 20000 руб.</td>\n",
       "      <td>9000.0</td>\n",
       "      <td>33126.00</td>\n",
       "      <td>12</td>\n",
       "      <td>4000.0</td>\n",
       "      <td>59910525</td>\n",
       "      <td>...</td>\n",
       "      <td>0</td>\n",
       "      <td>1</td>\n",
       "      <td>0</td>\n",
       "      <td>Иркутская область</td>\n",
       "      <td>Иркутская область</td>\n",
       "      <td>Иркутская область</td>\n",
       "      <td>0</td>\n",
       "      <td>0</td>\n",
       "      <td>2</td>\n",
       "      <td>1</td>\n",
       "    </tr>\n",
       "    <tr>\n",
       "      <th>3</th>\n",
       "      <td>Образование</td>\n",
       "      <td>Руководитель среднего звена</td>\n",
       "      <td>Участие в основ. деятельности</td>\n",
       "      <td>168.0</td>\n",
       "      <td>от 20000 до 50000 руб.</td>\n",
       "      <td>25000.0</td>\n",
       "      <td>8491.82</td>\n",
       "      <td>6</td>\n",
       "      <td>5000.0</td>\n",
       "      <td>59910803</td>\n",
       "      <td>...</td>\n",
       "      <td>1</td>\n",
       "      <td>1</td>\n",
       "      <td>0</td>\n",
       "      <td>Ростовская область</td>\n",
       "      <td>Ростовская область</td>\n",
       "      <td>Ростовская область</td>\n",
       "      <td>1</td>\n",
       "      <td>0</td>\n",
       "      <td>1</td>\n",
       "      <td>1</td>\n",
       "    </tr>\n",
       "    <tr>\n",
       "      <th>4</th>\n",
       "      <td>Государственная служба</td>\n",
       "      <td>Специалист</td>\n",
       "      <td>Участие в основ. деятельности</td>\n",
       "      <td>101.0</td>\n",
       "      <td>от 10000 до 20000 руб.</td>\n",
       "      <td>12000.0</td>\n",
       "      <td>21990.00</td>\n",
       "      <td>12</td>\n",
       "      <td>4000.0</td>\n",
       "      <td>59911781</td>\n",
       "      <td>...</td>\n",
       "      <td>0</td>\n",
       "      <td>1</td>\n",
       "      <td>0</td>\n",
       "      <td>Кабардино-Балкария</td>\n",
       "      <td>Кабардино-Балкария</td>\n",
       "      <td>Кабардино-Балкария</td>\n",
       "      <td>0</td>\n",
       "      <td>0</td>\n",
       "      <td>2</td>\n",
       "      <td>1</td>\n",
       "    </tr>\n",
       "    <tr>\n",
       "      <th>...</th>\n",
       "      <td>...</td>\n",
       "      <td>...</td>\n",
       "      <td>...</td>\n",
       "      <td>...</td>\n",
       "      <td>...</td>\n",
       "      <td>...</td>\n",
       "      <td>...</td>\n",
       "      <td>...</td>\n",
       "      <td>...</td>\n",
       "      <td>...</td>\n",
       "      <td>...</td>\n",
       "      <td>...</td>\n",
       "      <td>...</td>\n",
       "      <td>...</td>\n",
       "      <td>...</td>\n",
       "      <td>...</td>\n",
       "      <td>...</td>\n",
       "      <td>...</td>\n",
       "      <td>...</td>\n",
       "      <td>...</td>\n",
       "      <td>...</td>\n",
       "    </tr>\n",
       "    <tr>\n",
       "      <th>13850</th>\n",
       "      <td>Металлургия/Промышленность/Машиностроение</td>\n",
       "      <td>Специалист</td>\n",
       "      <td>Участие в основ. деятельности</td>\n",
       "      <td>108.0</td>\n",
       "      <td>от 10000 до 20000 руб.</td>\n",
       "      <td>10000.0</td>\n",
       "      <td>22930.00</td>\n",
       "      <td>6</td>\n",
       "      <td>2550.0</td>\n",
       "      <td>75291338</td>\n",
       "      <td>...</td>\n",
       "      <td>1</td>\n",
       "      <td>1</td>\n",
       "      <td>0</td>\n",
       "      <td>Тамбовская область</td>\n",
       "      <td>Тамбовская область</td>\n",
       "      <td>Тамбовская область</td>\n",
       "      <td>0</td>\n",
       "      <td>0</td>\n",
       "      <td>1</td>\n",
       "      <td>0</td>\n",
       "    </tr>\n",
       "    <tr>\n",
       "      <th>13851</th>\n",
       "      <td>Строительство</td>\n",
       "      <td>Специалист</td>\n",
       "      <td>Участие в основ. деятельности</td>\n",
       "      <td>48.0</td>\n",
       "      <td>от 10000 до 20000 руб.</td>\n",
       "      <td>12000.0</td>\n",
       "      <td>13450.00</td>\n",
       "      <td>10</td>\n",
       "      <td>1500.0</td>\n",
       "      <td>75291424</td>\n",
       "      <td>...</td>\n",
       "      <td>1</td>\n",
       "      <td>1</td>\n",
       "      <td>0</td>\n",
       "      <td>Воронежская область</td>\n",
       "      <td>Воронежская область</td>\n",
       "      <td>Воронежская область</td>\n",
       "      <td>0</td>\n",
       "      <td>0</td>\n",
       "      <td>3</td>\n",
       "      <td>2</td>\n",
       "    </tr>\n",
       "    <tr>\n",
       "      <th>13852</th>\n",
       "      <td>Здравоохранение</td>\n",
       "      <td>Другое</td>\n",
       "      <td>Участие в основ. деятельности</td>\n",
       "      <td>156.0</td>\n",
       "      <td>от 20000 до 50000 руб.</td>\n",
       "      <td>10000.0</td>\n",
       "      <td>8991.00</td>\n",
       "      <td>6</td>\n",
       "      <td>4000.0</td>\n",
       "      <td>75291888</td>\n",
       "      <td>...</td>\n",
       "      <td>0</td>\n",
       "      <td>1</td>\n",
       "      <td>0</td>\n",
       "      <td>Башкирия</td>\n",
       "      <td>Башкирия</td>\n",
       "      <td>Башкирия</td>\n",
       "      <td>0</td>\n",
       "      <td>0</td>\n",
       "      <td>1</td>\n",
       "      <td>0</td>\n",
       "    </tr>\n",
       "    <tr>\n",
       "      <th>13853</th>\n",
       "      <td>Торговля</td>\n",
       "      <td>Служащий</td>\n",
       "      <td>Кадровая служба и секретариат</td>\n",
       "      <td>48.0</td>\n",
       "      <td>от 5000 до 10000 руб.</td>\n",
       "      <td>6000.0</td>\n",
       "      <td>2700.00</td>\n",
       "      <td>6</td>\n",
       "      <td>800.0</td>\n",
       "      <td>75291923</td>\n",
       "      <td>...</td>\n",
       "      <td>1</td>\n",
       "      <td>1</td>\n",
       "      <td>0</td>\n",
       "      <td>Брянская область</td>\n",
       "      <td>Брянская область</td>\n",
       "      <td>Брянская область</td>\n",
       "      <td>0</td>\n",
       "      <td>0</td>\n",
       "      <td>1</td>\n",
       "      <td>0</td>\n",
       "    </tr>\n",
       "    <tr>\n",
       "      <th>13854</th>\n",
       "      <td>Транспорт</td>\n",
       "      <td>Специалист</td>\n",
       "      <td>Участие в основ. деятельности</td>\n",
       "      <td>36.0</td>\n",
       "      <td>от 20000 до 50000 руб.</td>\n",
       "      <td>20000.0</td>\n",
       "      <td>10245.00</td>\n",
       "      <td>6</td>\n",
       "      <td>1200.0</td>\n",
       "      <td>75292242</td>\n",
       "      <td>...</td>\n",
       "      <td>0</td>\n",
       "      <td>1</td>\n",
       "      <td>0</td>\n",
       "      <td>Карачаево-Черкесия</td>\n",
       "      <td>Карачаево-Черкесия</td>\n",
       "      <td>Карачаево-Черкесия</td>\n",
       "      <td>0</td>\n",
       "      <td>0</td>\n",
       "      <td>1</td>\n",
       "      <td>0</td>\n",
       "    </tr>\n",
       "  </tbody>\n",
       "</table>\n",
       "<p>13855 rows × 26 columns</p>\n",
       "</div>\n",
       "    <div class=\"colab-df-buttons\">\n",
       "\n",
       "  <div class=\"colab-df-container\">\n",
       "    <button class=\"colab-df-convert\" onclick=\"convertToInteractive('df-5a8e5a00-0a7a-433b-883e-d8df5c17d7c2')\"\n",
       "            title=\"Convert this dataframe to an interactive table.\"\n",
       "            style=\"display:none;\">\n",
       "\n",
       "  <svg xmlns=\"http://www.w3.org/2000/svg\" height=\"24px\" viewBox=\"0 -960 960 960\">\n",
       "    <path d=\"M120-120v-720h720v720H120Zm60-500h600v-160H180v160Zm220 220h160v-160H400v160Zm0 220h160v-160H400v160ZM180-400h160v-160H180v160Zm440 0h160v-160H620v160ZM180-180h160v-160H180v160Zm440 0h160v-160H620v160Z\"/>\n",
       "  </svg>\n",
       "    </button>\n",
       "\n",
       "  <style>\n",
       "    .colab-df-container {\n",
       "      display:flex;\n",
       "      gap: 12px;\n",
       "    }\n",
       "\n",
       "    .colab-df-convert {\n",
       "      background-color: #E8F0FE;\n",
       "      border: none;\n",
       "      border-radius: 50%;\n",
       "      cursor: pointer;\n",
       "      display: none;\n",
       "      fill: #1967D2;\n",
       "      height: 32px;\n",
       "      padding: 0 0 0 0;\n",
       "      width: 32px;\n",
       "    }\n",
       "\n",
       "    .colab-df-convert:hover {\n",
       "      background-color: #E2EBFA;\n",
       "      box-shadow: 0px 1px 2px rgba(60, 64, 67, 0.3), 0px 1px 3px 1px rgba(60, 64, 67, 0.15);\n",
       "      fill: #174EA6;\n",
       "    }\n",
       "\n",
       "    .colab-df-buttons div {\n",
       "      margin-bottom: 4px;\n",
       "    }\n",
       "\n",
       "    [theme=dark] .colab-df-convert {\n",
       "      background-color: #3B4455;\n",
       "      fill: #D2E3FC;\n",
       "    }\n",
       "\n",
       "    [theme=dark] .colab-df-convert:hover {\n",
       "      background-color: #434B5C;\n",
       "      box-shadow: 0px 1px 3px 1px rgba(0, 0, 0, 0.15);\n",
       "      filter: drop-shadow(0px 1px 2px rgba(0, 0, 0, 0.3));\n",
       "      fill: #FFFFFF;\n",
       "    }\n",
       "  </style>\n",
       "\n",
       "    <script>\n",
       "      const buttonEl =\n",
       "        document.querySelector('#df-5a8e5a00-0a7a-433b-883e-d8df5c17d7c2 button.colab-df-convert');\n",
       "      buttonEl.style.display =\n",
       "        google.colab.kernel.accessAllowed ? 'block' : 'none';\n",
       "\n",
       "      async function convertToInteractive(key) {\n",
       "        const element = document.querySelector('#df-5a8e5a00-0a7a-433b-883e-d8df5c17d7c2');\n",
       "        const dataTable =\n",
       "          await google.colab.kernel.invokeFunction('convertToInteractive',\n",
       "                                                    [key], {});\n",
       "        if (!dataTable) return;\n",
       "\n",
       "        const docLinkHtml = 'Like what you see? Visit the ' +\n",
       "          '<a target=\"_blank\" href=https://colab.research.google.com/notebooks/data_table.ipynb>data table notebook</a>'\n",
       "          + ' to learn more about interactive tables.';\n",
       "        element.innerHTML = '';\n",
       "        dataTable['output_type'] = 'display_data';\n",
       "        await google.colab.output.renderOutput(dataTable, element);\n",
       "        const docLink = document.createElement('div');\n",
       "        docLink.innerHTML = docLinkHtml;\n",
       "        element.appendChild(docLink);\n",
       "      }\n",
       "    </script>\n",
       "  </div>\n",
       "\n",
       "\n",
       "<div id=\"df-0d4b4804-6b51-4925-860c-73ae7e72e4f1\">\n",
       "  <button class=\"colab-df-quickchart\" onclick=\"quickchart('df-0d4b4804-6b51-4925-860c-73ae7e72e4f1')\"\n",
       "            title=\"Suggest charts.\"\n",
       "            style=\"display:none;\">\n",
       "\n",
       "<svg xmlns=\"http://www.w3.org/2000/svg\" height=\"24px\"viewBox=\"0 0 24 24\"\n",
       "     width=\"24px\">\n",
       "    <g>\n",
       "        <path d=\"M19 3H5c-1.1 0-2 .9-2 2v14c0 1.1.9 2 2 2h14c1.1 0 2-.9 2-2V5c0-1.1-.9-2-2-2zM9 17H7v-7h2v7zm4 0h-2V7h2v10zm4 0h-2v-4h2v4z\"/>\n",
       "    </g>\n",
       "</svg>\n",
       "  </button>\n",
       "\n",
       "<style>\n",
       "  .colab-df-quickchart {\n",
       "    background-color: #E8F0FE;\n",
       "    border: none;\n",
       "    border-radius: 50%;\n",
       "    cursor: pointer;\n",
       "    display: none;\n",
       "    fill: #1967D2;\n",
       "    height: 32px;\n",
       "    padding: 0 0 0 0;\n",
       "    width: 32px;\n",
       "  }\n",
       "\n",
       "  .colab-df-quickchart:hover {\n",
       "    background-color: #E2EBFA;\n",
       "    box-shadow: 0px 1px 2px rgba(60, 64, 67, 0.3), 0px 1px 3px 1px rgba(60, 64, 67, 0.15);\n",
       "    fill: #174EA6;\n",
       "  }\n",
       "\n",
       "  [theme=dark] .colab-df-quickchart {\n",
       "    background-color: #3B4455;\n",
       "    fill: #D2E3FC;\n",
       "  }\n",
       "\n",
       "  [theme=dark] .colab-df-quickchart:hover {\n",
       "    background-color: #434B5C;\n",
       "    box-shadow: 0px 1px 3px 1px rgba(0, 0, 0, 0.15);\n",
       "    filter: drop-shadow(0px 1px 2px rgba(0, 0, 0, 0.3));\n",
       "    fill: #FFFFFF;\n",
       "  }\n",
       "</style>\n",
       "\n",
       "  <script>\n",
       "    async function quickchart(key) {\n",
       "      const charts = await google.colab.kernel.invokeFunction(\n",
       "          'suggestCharts', [key], {});\n",
       "    }\n",
       "    (() => {\n",
       "      let quickchartButtonEl =\n",
       "        document.querySelector('#df-0d4b4804-6b51-4925-860c-73ae7e72e4f1 button');\n",
       "      quickchartButtonEl.style.display =\n",
       "        google.colab.kernel.accessAllowed ? 'block' : 'none';\n",
       "    })();\n",
       "  </script>\n",
       "</div>\n",
       "    </div>\n",
       "  </div>\n"
      ]
     },
     "metadata": {},
     "execution_count": 30
    }
   ]
  },
  {
   "cell_type": "markdown",
   "source": [
    "Готово!"
   ],
   "metadata": {
    "id": "wc7MXiiQkbx8"
   }
  },
  {
   "cell_type": "markdown",
   "source": [
    "Посмотрим на общую информацию по получившейся таблице."
   ],
   "metadata": {
    "id": "p1l9rwGvphzQ"
   }
  },
  {
   "cell_type": "code",
   "source": [
    "df.info()"
   ],
   "metadata": {
    "colab": {
     "base_uri": "https://localhost:8080/"
    },
    "id": "wI9c6sZApPGQ",
    "outputId": "dfdcacf9-6284-4198-cf5b-cbb5764a0f8f"
   },
   "execution_count": null,
   "outputs": [
    {
     "output_type": "stream",
     "name": "stdout",
     "text": [
      "<class 'pandas.core.frame.DataFrame'>\n",
      "RangeIndex: 13855 entries, 0 to 13854\n",
      "Data columns (total 26 columns):\n",
      " #   Column                   Non-Null Count  Dtype  \n",
      "---  ------                   --------------  -----  \n",
      " 0   GEN_INDUSTRY             13855 non-null  object \n",
      " 1   GEN_TITLE                13855 non-null  object \n",
      " 2   JOB_DIR                  13855 non-null  object \n",
      " 3   WORK_TIME                13855 non-null  float64\n",
      " 4   FAMILY_INCOME            13855 non-null  object \n",
      " 5   PERSONAL_INCOME          13855 non-null  float64\n",
      " 6   CREDIT                   13855 non-null  float64\n",
      " 7   TERM                     13855 non-null  int64  \n",
      " 8   FST_PAYMENT              13855 non-null  float64\n",
      " 9   AGREEMENT_RK             13855 non-null  int64  \n",
      " 10  TARGET                   13855 non-null  int64  \n",
      " 11  AGE                      13855 non-null  int64  \n",
      " 12  GENDER                   13855 non-null  int64  \n",
      " 13  EDUCATION                13855 non-null  object \n",
      " 14  MARITAL_STATUS           13855 non-null  object \n",
      " 15  CHILD_TOTAL              13855 non-null  int64  \n",
      " 16  DEPENDANTS               13855 non-null  int64  \n",
      " 17  SOCSTATUS_WORK_FL        13855 non-null  int64  \n",
      " 18  SOCSTATUS_PENS_FL        13855 non-null  int64  \n",
      " 19  REG_ADDRESS_PROVINCE     13855 non-null  object \n",
      " 20  FACT_ADDRESS_PROVINCE    13855 non-null  object \n",
      " 21  POSTAL_ADDRESS_PROVINCE  13855 non-null  object \n",
      " 22  FL_PRESENCE_FL           13855 non-null  int64  \n",
      " 23  OWN_AUTO                 13855 non-null  int64  \n",
      " 24  LOAN_NUM_TOTAL           13855 non-null  int64  \n",
      " 25  LOAN_NUM_CLOSED          13855 non-null  int64  \n",
      "dtypes: float64(4), int64(13), object(9)\n",
      "memory usage: 2.7+ MB\n"
     ]
    }
   ]
  },
  {
   "cell_type": "markdown",
   "source": [
    "Видим, что у нас 9 не числовых признаков. Если в них окажется много категорий - избавимся от них."
   ],
   "metadata": {
    "id": "j4DmrcrKp6O9"
   }
  },
  {
   "cell_type": "code",
   "source": [
    "df[\"GEN_INDUSTRY\"].nunique(), df[\"GEN_INDUSTRY\"].unique()"
   ],
   "metadata": {
    "colab": {
     "base_uri": "https://localhost:8080/"
    },
    "id": "wPRYbhK-qM1m",
    "outputId": "323b7ded-00c6-4b02-c8b6-55e5996a9453"
   },
   "execution_count": null,
   "outputs": [
    {
     "output_type": "execute_result",
     "data": {
      "text/plain": [
       "(31,\n",
       " array(['Торговля', 'Информационные технологии', 'Образование',\n",
       "        'Государственная служба', 'Другие сферы', 'Сельское хозяйство',\n",
       "        'Здравоохранение', 'Металлургия/Промышленность/Машиностроение',\n",
       "        'Коммунальное хоз-во/Дорожные службы', 'Строительство',\n",
       "        'Транспорт', 'Банк/Финансы',\n",
       "        'Ресторанный бизнес/Общественное питание', 'Страхование',\n",
       "        'Нефтегазовая промышленность', 'СМИ/Реклама/PR-агенства',\n",
       "        'Энергетика', 'Салоны красоты и здоровья', 'ЧОП/Детективная д-ть',\n",
       "        'Развлечения/Искусство', 'Наука', 'Химия/Парфюмерия/Фармацевтика',\n",
       "        'Сборочные производства', 'Туризм',\n",
       "        'Юридические услуги/нотариальные услуги', 'Маркетинг',\n",
       "        'Подбор персонала', 'Информационные услуги', 'Недвижимость',\n",
       "        'Управляющая компания', 'Логистика'], dtype=object))"
      ]
     },
     "metadata": {},
     "execution_count": 32
    }
   ]
  },
  {
   "cell_type": "code",
   "source": [
    "df[\"GEN_TITLE\"].nunique(), df[\"GEN_TITLE\"].unique()"
   ],
   "metadata": {
    "colab": {
     "base_uri": "https://localhost:8080/"
    },
    "id": "6YZZCvnNqw-A",
    "outputId": "7610cb0e-49d1-45d2-ab07-601e03368a22"
   },
   "execution_count": null,
   "outputs": [
    {
     "output_type": "execute_result",
     "data": {
      "text/plain": [
       "(12,\n",
       " array(['Рабочий', 'Специалист', 'Руководитель среднего звена',\n",
       "        'Руководитель высшего звена', 'Служащий', 'Работник сферы услуг',\n",
       "        'Высококвалифиц. специалист', 'Индивидуальный предприниматель',\n",
       "        'Военнослужащий по контракту', 'Руководитель низшего звена',\n",
       "        'Другое', 'Партнер'], dtype=object))"
      ]
     },
     "metadata": {},
     "execution_count": 33
    }
   ]
  },
  {
   "cell_type": "code",
   "source": [
    "df[\"JOB_DIR\"].nunique(), df[\"JOB_DIR\"].unique()"
   ],
   "metadata": {
    "colab": {
     "base_uri": "https://localhost:8080/"
    },
    "id": "x8-PTEJ-q2LI",
    "outputId": "c95c3388-bbe7-489d-9059-96f581cc488c"
   },
   "execution_count": null,
   "outputs": [
    {
     "output_type": "execute_result",
     "data": {
      "text/plain": [
       "(10,\n",
       " array(['Вспомогательный техперсонал', 'Участие в основ. деятельности',\n",
       "        'Адм-хоз. и трансп. службы', 'Пр-техн. обесп. и телеком.',\n",
       "        'Служба безопасности', 'Бухгалтерия, финансы, планир.',\n",
       "        'Снабжение и сбыт', 'Кадровая служба и секретариат',\n",
       "        'Юридическая служба', 'Реклама и маркетинг'], dtype=object))"
      ]
     },
     "metadata": {},
     "execution_count": 34
    }
   ]
  },
  {
   "cell_type": "code",
   "source": [
    "df[\"FAMILY_INCOME\"].nunique(), df[\"FAMILY_INCOME\"].unique()"
   ],
   "metadata": {
    "colab": {
     "base_uri": "https://localhost:8080/"
    },
    "id": "Wm72dwy4q86D",
    "outputId": "e86aef68-9ee9-4060-d416-67ceca4e3294"
   },
   "execution_count": null,
   "outputs": [
    {
     "output_type": "execute_result",
     "data": {
      "text/plain": [
       "(5,\n",
       " array(['от 10000 до 20000 руб.', 'от 20000 до 50000 руб.',\n",
       "        'свыше 50000 руб.', 'от 5000 до 10000 руб.', 'до 5000 руб.'],\n",
       "       dtype=object))"
      ]
     },
     "metadata": {},
     "execution_count": 35
    }
   ]
  },
  {
   "cell_type": "code",
   "source": [
    "df[\"EDUCATION\"].nunique(), df[\"EDUCATION\"].unique()"
   ],
   "metadata": {
    "colab": {
     "base_uri": "https://localhost:8080/"
    },
    "id": "ethZQg35rSoL",
    "outputId": "cda36b11-a94a-498f-f7a0-f0fa6e8c2ce3"
   },
   "execution_count": null,
   "outputs": [
    {
     "output_type": "execute_result",
     "data": {
      "text/plain": [
       "(7,\n",
       " array(['Среднее специальное', 'Среднее', 'Неполное среднее', 'Высшее',\n",
       "        'Неоконченное высшее', 'Два и более высших образования',\n",
       "        'Ученая степень'], dtype=object))"
      ]
     },
     "metadata": {},
     "execution_count": 36
    }
   ]
  },
  {
   "cell_type": "code",
   "source": [
    "df[\"MARITAL_STATUS\"].nunique(), df[\"MARITAL_STATUS\"].unique()"
   ],
   "metadata": {
    "colab": {
     "base_uri": "https://localhost:8080/"
    },
    "id": "YsY8-TwIrYt3",
    "outputId": "ade65584-85cb-4f7d-c744-afe3a702109f"
   },
   "execution_count": null,
   "outputs": [
    {
     "output_type": "execute_result",
     "data": {
      "text/plain": [
       "(5,\n",
       " array(['Состою в браке', 'Гражданский брак', 'Разведен(а)',\n",
       "        'Не состоял в браке', 'Вдовец/Вдова'], dtype=object))"
      ]
     },
     "metadata": {},
     "execution_count": 37
    }
   ]
  },
  {
   "cell_type": "markdown",
   "source": [
    "Оставим только образование, доход и семейное положение."
   ],
   "metadata": {
    "id": "bmmy8e4FrmMS"
   }
  },
  {
   "cell_type": "code",
   "source": [
    "df.drop([\"GEN_INDUSTRY\", \"GEN_TITLE\", \"JOB_DIR\", \"REG_ADDRESS_PROVINCE\", \"FACT_ADDRESS_PROVINCE\", \"POSTAL_ADDRESS_PROVINCE\"], axis=1, inplace=True)"
   ],
   "metadata": {
    "id": "-pscQErjrweC"
   },
   "execution_count": null,
   "outputs": []
  },
  {
   "cell_type": "code",
   "source": [
    "df"
   ],
   "metadata": {
    "colab": {
     "base_uri": "https://localhost:8080/",
     "height": 617
    },
    "id": "vrhVMOpKsKbk",
    "outputId": "18c230f1-03e9-4efa-c321-aeda2fd7f39d"
   },
   "execution_count": null,
   "outputs": [
    {
     "output_type": "execute_result",
     "data": {
      "text/plain": [
       "       WORK_TIME           FAMILY_INCOME  PERSONAL_INCOME    CREDIT  TERM  \\\n",
       "0           18.0  от 10000 до 20000 руб.           5000.0   8000.00     6   \n",
       "1           97.0  от 10000 до 20000 руб.          12000.0  21650.00     6   \n",
       "2           84.0  от 10000 до 20000 руб.           9000.0  33126.00    12   \n",
       "3          168.0  от 20000 до 50000 руб.          25000.0   8491.82     6   \n",
       "4          101.0  от 10000 до 20000 руб.          12000.0  21990.00    12   \n",
       "...          ...                     ...              ...       ...   ...   \n",
       "13850      108.0  от 10000 до 20000 руб.          10000.0  22930.00     6   \n",
       "13851       48.0  от 10000 до 20000 руб.          12000.0  13450.00    10   \n",
       "13852      156.0  от 20000 до 50000 руб.          10000.0   8991.00     6   \n",
       "13853       48.0   от 5000 до 10000 руб.           6000.0   2700.00     6   \n",
       "13854       36.0  от 20000 до 50000 руб.          20000.0  10245.00     6   \n",
       "\n",
       "       FST_PAYMENT  AGREEMENT_RK  TARGET  AGE  GENDER            EDUCATION  \\\n",
       "0           8650.0      59910150       0   49       1  Среднее специальное   \n",
       "1           4000.0      59910230       0   32       1              Среднее   \n",
       "2           4000.0      59910525       0   52       1     Неполное среднее   \n",
       "3           5000.0      59910803       0   39       1               Высшее   \n",
       "4           4000.0      59911781       0   30       0              Среднее   \n",
       "...            ...           ...     ...  ...     ...                  ...   \n",
       "13850       2550.0      75291338       0   39       1  Среднее специальное   \n",
       "13851       1500.0      75291424       0   25       0              Среднее   \n",
       "13852       4000.0      75291888       0   51       1  Среднее специальное   \n",
       "13853        800.0      75291923       0   22       1              Среднее   \n",
       "13854       1200.0      75292242       0   37       0              Среднее   \n",
       "\n",
       "           MARITAL_STATUS  CHILD_TOTAL  DEPENDANTS  SOCSTATUS_WORK_FL  \\\n",
       "0          Состою в браке            2           1                  1   \n",
       "1          Состою в браке            3           3                  1   \n",
       "2          Состою в браке            4           0                  1   \n",
       "3          Состою в браке            1           1                  1   \n",
       "4          Состою в браке            0           0                  1   \n",
       "...                   ...          ...         ...                ...   \n",
       "13850      Состою в браке            1           1                  1   \n",
       "13851      Состою в браке            1           1                  1   \n",
       "13852      Состою в браке            2           0                  1   \n",
       "13853  Не состоял в браке            1           1                  1   \n",
       "13854      Состою в браке            2           0                  1   \n",
       "\n",
       "       SOCSTATUS_PENS_FL  FL_PRESENCE_FL  OWN_AUTO  LOAN_NUM_TOTAL  \\\n",
       "0                      0               0         0               1   \n",
       "1                      0               0         0               1   \n",
       "2                      0               0         0               2   \n",
       "3                      0               1         0               1   \n",
       "4                      0               0         0               2   \n",
       "...                  ...             ...       ...             ...   \n",
       "13850                  0               0         0               1   \n",
       "13851                  0               0         0               3   \n",
       "13852                  0               0         0               1   \n",
       "13853                  0               0         0               1   \n",
       "13854                  0               0         0               1   \n",
       "\n",
       "       LOAN_NUM_CLOSED  \n",
       "0                    1  \n",
       "1                    1  \n",
       "2                    1  \n",
       "3                    1  \n",
       "4                    1  \n",
       "...                ...  \n",
       "13850                0  \n",
       "13851                2  \n",
       "13852                0  \n",
       "13853                0  \n",
       "13854                0  \n",
       "\n",
       "[13855 rows x 20 columns]"
      ],
      "text/html": [
       "\n",
       "  <div id=\"df-2cc4e962-451b-477d-a639-b3e09f605c60\" class=\"colab-df-container\">\n",
       "    <div>\n",
       "<style scoped>\n",
       "    .dataframe tbody tr th:only-of-type {\n",
       "        vertical-align: middle;\n",
       "    }\n",
       "\n",
       "    .dataframe tbody tr th {\n",
       "        vertical-align: top;\n",
       "    }\n",
       "\n",
       "    .dataframe thead th {\n",
       "        text-align: right;\n",
       "    }\n",
       "</style>\n",
       "<table border=\"1\" class=\"dataframe\">\n",
       "  <thead>\n",
       "    <tr style=\"text-align: right;\">\n",
       "      <th></th>\n",
       "      <th>WORK_TIME</th>\n",
       "      <th>FAMILY_INCOME</th>\n",
       "      <th>PERSONAL_INCOME</th>\n",
       "      <th>CREDIT</th>\n",
       "      <th>TERM</th>\n",
       "      <th>FST_PAYMENT</th>\n",
       "      <th>AGREEMENT_RK</th>\n",
       "      <th>TARGET</th>\n",
       "      <th>AGE</th>\n",
       "      <th>GENDER</th>\n",
       "      <th>EDUCATION</th>\n",
       "      <th>MARITAL_STATUS</th>\n",
       "      <th>CHILD_TOTAL</th>\n",
       "      <th>DEPENDANTS</th>\n",
       "      <th>SOCSTATUS_WORK_FL</th>\n",
       "      <th>SOCSTATUS_PENS_FL</th>\n",
       "      <th>FL_PRESENCE_FL</th>\n",
       "      <th>OWN_AUTO</th>\n",
       "      <th>LOAN_NUM_TOTAL</th>\n",
       "      <th>LOAN_NUM_CLOSED</th>\n",
       "    </tr>\n",
       "  </thead>\n",
       "  <tbody>\n",
       "    <tr>\n",
       "      <th>0</th>\n",
       "      <td>18.0</td>\n",
       "      <td>от 10000 до 20000 руб.</td>\n",
       "      <td>5000.0</td>\n",
       "      <td>8000.00</td>\n",
       "      <td>6</td>\n",
       "      <td>8650.0</td>\n",
       "      <td>59910150</td>\n",
       "      <td>0</td>\n",
       "      <td>49</td>\n",
       "      <td>1</td>\n",
       "      <td>Среднее специальное</td>\n",
       "      <td>Состою в браке</td>\n",
       "      <td>2</td>\n",
       "      <td>1</td>\n",
       "      <td>1</td>\n",
       "      <td>0</td>\n",
       "      <td>0</td>\n",
       "      <td>0</td>\n",
       "      <td>1</td>\n",
       "      <td>1</td>\n",
       "    </tr>\n",
       "    <tr>\n",
       "      <th>1</th>\n",
       "      <td>97.0</td>\n",
       "      <td>от 10000 до 20000 руб.</td>\n",
       "      <td>12000.0</td>\n",
       "      <td>21650.00</td>\n",
       "      <td>6</td>\n",
       "      <td>4000.0</td>\n",
       "      <td>59910230</td>\n",
       "      <td>0</td>\n",
       "      <td>32</td>\n",
       "      <td>1</td>\n",
       "      <td>Среднее</td>\n",
       "      <td>Состою в браке</td>\n",
       "      <td>3</td>\n",
       "      <td>3</td>\n",
       "      <td>1</td>\n",
       "      <td>0</td>\n",
       "      <td>0</td>\n",
       "      <td>0</td>\n",
       "      <td>1</td>\n",
       "      <td>1</td>\n",
       "    </tr>\n",
       "    <tr>\n",
       "      <th>2</th>\n",
       "      <td>84.0</td>\n",
       "      <td>от 10000 до 20000 руб.</td>\n",
       "      <td>9000.0</td>\n",
       "      <td>33126.00</td>\n",
       "      <td>12</td>\n",
       "      <td>4000.0</td>\n",
       "      <td>59910525</td>\n",
       "      <td>0</td>\n",
       "      <td>52</td>\n",
       "      <td>1</td>\n",
       "      <td>Неполное среднее</td>\n",
       "      <td>Состою в браке</td>\n",
       "      <td>4</td>\n",
       "      <td>0</td>\n",
       "      <td>1</td>\n",
       "      <td>0</td>\n",
       "      <td>0</td>\n",
       "      <td>0</td>\n",
       "      <td>2</td>\n",
       "      <td>1</td>\n",
       "    </tr>\n",
       "    <tr>\n",
       "      <th>3</th>\n",
       "      <td>168.0</td>\n",
       "      <td>от 20000 до 50000 руб.</td>\n",
       "      <td>25000.0</td>\n",
       "      <td>8491.82</td>\n",
       "      <td>6</td>\n",
       "      <td>5000.0</td>\n",
       "      <td>59910803</td>\n",
       "      <td>0</td>\n",
       "      <td>39</td>\n",
       "      <td>1</td>\n",
       "      <td>Высшее</td>\n",
       "      <td>Состою в браке</td>\n",
       "      <td>1</td>\n",
       "      <td>1</td>\n",
       "      <td>1</td>\n",
       "      <td>0</td>\n",
       "      <td>1</td>\n",
       "      <td>0</td>\n",
       "      <td>1</td>\n",
       "      <td>1</td>\n",
       "    </tr>\n",
       "    <tr>\n",
       "      <th>4</th>\n",
       "      <td>101.0</td>\n",
       "      <td>от 10000 до 20000 руб.</td>\n",
       "      <td>12000.0</td>\n",
       "      <td>21990.00</td>\n",
       "      <td>12</td>\n",
       "      <td>4000.0</td>\n",
       "      <td>59911781</td>\n",
       "      <td>0</td>\n",
       "      <td>30</td>\n",
       "      <td>0</td>\n",
       "      <td>Среднее</td>\n",
       "      <td>Состою в браке</td>\n",
       "      <td>0</td>\n",
       "      <td>0</td>\n",
       "      <td>1</td>\n",
       "      <td>0</td>\n",
       "      <td>0</td>\n",
       "      <td>0</td>\n",
       "      <td>2</td>\n",
       "      <td>1</td>\n",
       "    </tr>\n",
       "    <tr>\n",
       "      <th>...</th>\n",
       "      <td>...</td>\n",
       "      <td>...</td>\n",
       "      <td>...</td>\n",
       "      <td>...</td>\n",
       "      <td>...</td>\n",
       "      <td>...</td>\n",
       "      <td>...</td>\n",
       "      <td>...</td>\n",
       "      <td>...</td>\n",
       "      <td>...</td>\n",
       "      <td>...</td>\n",
       "      <td>...</td>\n",
       "      <td>...</td>\n",
       "      <td>...</td>\n",
       "      <td>...</td>\n",
       "      <td>...</td>\n",
       "      <td>...</td>\n",
       "      <td>...</td>\n",
       "      <td>...</td>\n",
       "      <td>...</td>\n",
       "    </tr>\n",
       "    <tr>\n",
       "      <th>13850</th>\n",
       "      <td>108.0</td>\n",
       "      <td>от 10000 до 20000 руб.</td>\n",
       "      <td>10000.0</td>\n",
       "      <td>22930.00</td>\n",
       "      <td>6</td>\n",
       "      <td>2550.0</td>\n",
       "      <td>75291338</td>\n",
       "      <td>0</td>\n",
       "      <td>39</td>\n",
       "      <td>1</td>\n",
       "      <td>Среднее специальное</td>\n",
       "      <td>Состою в браке</td>\n",
       "      <td>1</td>\n",
       "      <td>1</td>\n",
       "      <td>1</td>\n",
       "      <td>0</td>\n",
       "      <td>0</td>\n",
       "      <td>0</td>\n",
       "      <td>1</td>\n",
       "      <td>0</td>\n",
       "    </tr>\n",
       "    <tr>\n",
       "      <th>13851</th>\n",
       "      <td>48.0</td>\n",
       "      <td>от 10000 до 20000 руб.</td>\n",
       "      <td>12000.0</td>\n",
       "      <td>13450.00</td>\n",
       "      <td>10</td>\n",
       "      <td>1500.0</td>\n",
       "      <td>75291424</td>\n",
       "      <td>0</td>\n",
       "      <td>25</td>\n",
       "      <td>0</td>\n",
       "      <td>Среднее</td>\n",
       "      <td>Состою в браке</td>\n",
       "      <td>1</td>\n",
       "      <td>1</td>\n",
       "      <td>1</td>\n",
       "      <td>0</td>\n",
       "      <td>0</td>\n",
       "      <td>0</td>\n",
       "      <td>3</td>\n",
       "      <td>2</td>\n",
       "    </tr>\n",
       "    <tr>\n",
       "      <th>13852</th>\n",
       "      <td>156.0</td>\n",
       "      <td>от 20000 до 50000 руб.</td>\n",
       "      <td>10000.0</td>\n",
       "      <td>8991.00</td>\n",
       "      <td>6</td>\n",
       "      <td>4000.0</td>\n",
       "      <td>75291888</td>\n",
       "      <td>0</td>\n",
       "      <td>51</td>\n",
       "      <td>1</td>\n",
       "      <td>Среднее специальное</td>\n",
       "      <td>Состою в браке</td>\n",
       "      <td>2</td>\n",
       "      <td>0</td>\n",
       "      <td>1</td>\n",
       "      <td>0</td>\n",
       "      <td>0</td>\n",
       "      <td>0</td>\n",
       "      <td>1</td>\n",
       "      <td>0</td>\n",
       "    </tr>\n",
       "    <tr>\n",
       "      <th>13853</th>\n",
       "      <td>48.0</td>\n",
       "      <td>от 5000 до 10000 руб.</td>\n",
       "      <td>6000.0</td>\n",
       "      <td>2700.00</td>\n",
       "      <td>6</td>\n",
       "      <td>800.0</td>\n",
       "      <td>75291923</td>\n",
       "      <td>0</td>\n",
       "      <td>22</td>\n",
       "      <td>1</td>\n",
       "      <td>Среднее</td>\n",
       "      <td>Не состоял в браке</td>\n",
       "      <td>1</td>\n",
       "      <td>1</td>\n",
       "      <td>1</td>\n",
       "      <td>0</td>\n",
       "      <td>0</td>\n",
       "      <td>0</td>\n",
       "      <td>1</td>\n",
       "      <td>0</td>\n",
       "    </tr>\n",
       "    <tr>\n",
       "      <th>13854</th>\n",
       "      <td>36.0</td>\n",
       "      <td>от 20000 до 50000 руб.</td>\n",
       "      <td>20000.0</td>\n",
       "      <td>10245.00</td>\n",
       "      <td>6</td>\n",
       "      <td>1200.0</td>\n",
       "      <td>75292242</td>\n",
       "      <td>0</td>\n",
       "      <td>37</td>\n",
       "      <td>0</td>\n",
       "      <td>Среднее</td>\n",
       "      <td>Состою в браке</td>\n",
       "      <td>2</td>\n",
       "      <td>0</td>\n",
       "      <td>1</td>\n",
       "      <td>0</td>\n",
       "      <td>0</td>\n",
       "      <td>0</td>\n",
       "      <td>1</td>\n",
       "      <td>0</td>\n",
       "    </tr>\n",
       "  </tbody>\n",
       "</table>\n",
       "<p>13855 rows × 20 columns</p>\n",
       "</div>\n",
       "    <div class=\"colab-df-buttons\">\n",
       "\n",
       "  <div class=\"colab-df-container\">\n",
       "    <button class=\"colab-df-convert\" onclick=\"convertToInteractive('df-2cc4e962-451b-477d-a639-b3e09f605c60')\"\n",
       "            title=\"Convert this dataframe to an interactive table.\"\n",
       "            style=\"display:none;\">\n",
       "\n",
       "  <svg xmlns=\"http://www.w3.org/2000/svg\" height=\"24px\" viewBox=\"0 -960 960 960\">\n",
       "    <path d=\"M120-120v-720h720v720H120Zm60-500h600v-160H180v160Zm220 220h160v-160H400v160Zm0 220h160v-160H400v160ZM180-400h160v-160H180v160Zm440 0h160v-160H620v160ZM180-180h160v-160H180v160Zm440 0h160v-160H620v160Z\"/>\n",
       "  </svg>\n",
       "    </button>\n",
       "\n",
       "  <style>\n",
       "    .colab-df-container {\n",
       "      display:flex;\n",
       "      gap: 12px;\n",
       "    }\n",
       "\n",
       "    .colab-df-convert {\n",
       "      background-color: #E8F0FE;\n",
       "      border: none;\n",
       "      border-radius: 50%;\n",
       "      cursor: pointer;\n",
       "      display: none;\n",
       "      fill: #1967D2;\n",
       "      height: 32px;\n",
       "      padding: 0 0 0 0;\n",
       "      width: 32px;\n",
       "    }\n",
       "\n",
       "    .colab-df-convert:hover {\n",
       "      background-color: #E2EBFA;\n",
       "      box-shadow: 0px 1px 2px rgba(60, 64, 67, 0.3), 0px 1px 3px 1px rgba(60, 64, 67, 0.15);\n",
       "      fill: #174EA6;\n",
       "    }\n",
       "\n",
       "    .colab-df-buttons div {\n",
       "      margin-bottom: 4px;\n",
       "    }\n",
       "\n",
       "    [theme=dark] .colab-df-convert {\n",
       "      background-color: #3B4455;\n",
       "      fill: #D2E3FC;\n",
       "    }\n",
       "\n",
       "    [theme=dark] .colab-df-convert:hover {\n",
       "      background-color: #434B5C;\n",
       "      box-shadow: 0px 1px 3px 1px rgba(0, 0, 0, 0.15);\n",
       "      filter: drop-shadow(0px 1px 2px rgba(0, 0, 0, 0.3));\n",
       "      fill: #FFFFFF;\n",
       "    }\n",
       "  </style>\n",
       "\n",
       "    <script>\n",
       "      const buttonEl =\n",
       "        document.querySelector('#df-2cc4e962-451b-477d-a639-b3e09f605c60 button.colab-df-convert');\n",
       "      buttonEl.style.display =\n",
       "        google.colab.kernel.accessAllowed ? 'block' : 'none';\n",
       "\n",
       "      async function convertToInteractive(key) {\n",
       "        const element = document.querySelector('#df-2cc4e962-451b-477d-a639-b3e09f605c60');\n",
       "        const dataTable =\n",
       "          await google.colab.kernel.invokeFunction('convertToInteractive',\n",
       "                                                    [key], {});\n",
       "        if (!dataTable) return;\n",
       "\n",
       "        const docLinkHtml = 'Like what you see? Visit the ' +\n",
       "          '<a target=\"_blank\" href=https://colab.research.google.com/notebooks/data_table.ipynb>data table notebook</a>'\n",
       "          + ' to learn more about interactive tables.';\n",
       "        element.innerHTML = '';\n",
       "        dataTable['output_type'] = 'display_data';\n",
       "        await google.colab.output.renderOutput(dataTable, element);\n",
       "        const docLink = document.createElement('div');\n",
       "        docLink.innerHTML = docLinkHtml;\n",
       "        element.appendChild(docLink);\n",
       "      }\n",
       "    </script>\n",
       "  </div>\n",
       "\n",
       "\n",
       "<div id=\"df-b5e23ee1-20a1-4f72-adc3-d0636eda6503\">\n",
       "  <button class=\"colab-df-quickchart\" onclick=\"quickchart('df-b5e23ee1-20a1-4f72-adc3-d0636eda6503')\"\n",
       "            title=\"Suggest charts.\"\n",
       "            style=\"display:none;\">\n",
       "\n",
       "<svg xmlns=\"http://www.w3.org/2000/svg\" height=\"24px\"viewBox=\"0 0 24 24\"\n",
       "     width=\"24px\">\n",
       "    <g>\n",
       "        <path d=\"M19 3H5c-1.1 0-2 .9-2 2v14c0 1.1.9 2 2 2h14c1.1 0 2-.9 2-2V5c0-1.1-.9-2-2-2zM9 17H7v-7h2v7zm4 0h-2V7h2v10zm4 0h-2v-4h2v4z\"/>\n",
       "    </g>\n",
       "</svg>\n",
       "  </button>\n",
       "\n",
       "<style>\n",
       "  .colab-df-quickchart {\n",
       "    background-color: #E8F0FE;\n",
       "    border: none;\n",
       "    border-radius: 50%;\n",
       "    cursor: pointer;\n",
       "    display: none;\n",
       "    fill: #1967D2;\n",
       "    height: 32px;\n",
       "    padding: 0 0 0 0;\n",
       "    width: 32px;\n",
       "  }\n",
       "\n",
       "  .colab-df-quickchart:hover {\n",
       "    background-color: #E2EBFA;\n",
       "    box-shadow: 0px 1px 2px rgba(60, 64, 67, 0.3), 0px 1px 3px 1px rgba(60, 64, 67, 0.15);\n",
       "    fill: #174EA6;\n",
       "  }\n",
       "\n",
       "  [theme=dark] .colab-df-quickchart {\n",
       "    background-color: #3B4455;\n",
       "    fill: #D2E3FC;\n",
       "  }\n",
       "\n",
       "  [theme=dark] .colab-df-quickchart:hover {\n",
       "    background-color: #434B5C;\n",
       "    box-shadow: 0px 1px 3px 1px rgba(0, 0, 0, 0.15);\n",
       "    filter: drop-shadow(0px 1px 2px rgba(0, 0, 0, 0.3));\n",
       "    fill: #FFFFFF;\n",
       "  }\n",
       "</style>\n",
       "\n",
       "  <script>\n",
       "    async function quickchart(key) {\n",
       "      const charts = await google.colab.kernel.invokeFunction(\n",
       "          'suggestCharts', [key], {});\n",
       "    }\n",
       "    (() => {\n",
       "      let quickchartButtonEl =\n",
       "        document.querySelector('#df-b5e23ee1-20a1-4f72-adc3-d0636eda6503 button');\n",
       "      quickchartButtonEl.style.display =\n",
       "        google.colab.kernel.accessAllowed ? 'block' : 'none';\n",
       "    })();\n",
       "  </script>\n",
       "</div>\n",
       "    </div>\n",
       "  </div>\n"
      ]
     },
     "metadata": {},
     "execution_count": 39
    }
   ]
  },
  {
   "cell_type": "code",
   "source": [
    "df.info()"
   ],
   "metadata": {
    "colab": {
     "base_uri": "https://localhost:8080/"
    },
    "id": "tNF1kINusoNy",
    "outputId": "233bec71-db26-4fe5-c15c-1ba5ac780752"
   },
   "execution_count": null,
   "outputs": [
    {
     "output_type": "stream",
     "name": "stdout",
     "text": [
      "<class 'pandas.core.frame.DataFrame'>\n",
      "RangeIndex: 13855 entries, 0 to 13854\n",
      "Data columns (total 20 columns):\n",
      " #   Column             Non-Null Count  Dtype  \n",
      "---  ------             --------------  -----  \n",
      " 0   WORK_TIME          13855 non-null  float64\n",
      " 1   FAMILY_INCOME      13855 non-null  object \n",
      " 2   PERSONAL_INCOME    13855 non-null  float64\n",
      " 3   CREDIT             13855 non-null  float64\n",
      " 4   TERM               13855 non-null  int64  \n",
      " 5   FST_PAYMENT        13855 non-null  float64\n",
      " 6   AGREEMENT_RK       13855 non-null  int64  \n",
      " 7   TARGET             13855 non-null  int64  \n",
      " 8   AGE                13855 non-null  int64  \n",
      " 9   GENDER             13855 non-null  int64  \n",
      " 10  EDUCATION          13855 non-null  object \n",
      " 11  MARITAL_STATUS     13855 non-null  object \n",
      " 12  CHILD_TOTAL        13855 non-null  int64  \n",
      " 13  DEPENDANTS         13855 non-null  int64  \n",
      " 14  SOCSTATUS_WORK_FL  13855 non-null  int64  \n",
      " 15  SOCSTATUS_PENS_FL  13855 non-null  int64  \n",
      " 16  FL_PRESENCE_FL     13855 non-null  int64  \n",
      " 17  OWN_AUTO           13855 non-null  int64  \n",
      " 18  LOAN_NUM_TOTAL     13855 non-null  int64  \n",
      " 19  LOAN_NUM_CLOSED    13855 non-null  int64  \n",
      "dtypes: float64(4), int64(13), object(3)\n",
      "memory usage: 2.1+ MB\n"
     ]
    }
   ]
  },
  {
   "cell_type": "markdown",
   "source": [
    "Сохраним \"чистый\" датасет."
   ],
   "metadata": {
    "id": "Du3IYGJG0hb5"
   }
  },
  {
   "cell_type": "code",
   "source": [
    "df.to_csv(\"clients_clean.csv\", index=False)"
   ],
   "metadata": {
    "id": "cLbABxTq0n15"
   },
   "execution_count": null,
   "outputs": []
  },
  {
   "cell_type": "markdown",
   "source": [
    "## Описание данных"
   ],
   "metadata": {
    "id": "ttKUwIQ6k0Ud"
   }
  },
  {
   "cell_type": "markdown",
   "source": [
    "- WORK_TIME — время работы на текущем месте (в месяцах);\n",
    "- FAMILY_INCOME — семейный доход (несколько категорий);\n",
    "- PERSONAL_INCOME — личный доход клиента (в рублях);\n",
    "- CREDIT — сумма последнего кредита клиента (в рублях);\n",
    "- TERM — срок кредита;\n",
    "- FST_PAYMENT — первоначальный взнос (в рублях);\n",
    "- AGREEMENT_RK — уникальный идентификатор объекта в выборке;\n",
    "- TARGET — целевая переменная: отклик на маркетинговую кампанию (1 — отклик был зарегистрирован, 0 — отклика не было);\n",
    "- AGE\t— возраст клиента;\n",
    "- GENDER — пол клиента (1 — мужчина, 0 — женщина);\n",
    "- EDUCATION — образование;\n",
    "- MARITAL_STATUS — семейное положение;\n",
    "- CHILD_TOTAL\t— количество детей клиента;\n",
    "- DEPENDANTS — количество иждивенцев клиента;\n",
    "- SOCSTATUS_WORK_FL\t— социальный статус клиента относительно работы (1 — работает, 0 — не работает);\n",
    "- SOCSTATUS_PENS_FL\t— социальный статус клиента относительно пенсии (1 — пенсионер, 0 — не пенсионер);\n",
    "- FL_PRESENCE_FL — наличие в собственности квартиры (1 — есть, 0 — нет);\n",
    "- OWN_AUTO — количество автомобилей в собственности;\n",
    "- LOAN_NUM_TOTAL — количество ссуд клиента;\n",
    "- LOAN_NUM_CLOSED — количество погашенных ссуд клиента."
   ],
   "metadata": {
    "id": "GYij2knZskK_"
   }
  },
  {
   "cell_type": "markdown",
   "source": [
    "## Исследование данных"
   ],
   "metadata": {
    "id": "k_rFC4wf1EOy"
   }
  },
  {
   "cell_type": "markdown",
   "source": [
    "Посмотрим на распределение числовых признаков."
   ],
   "metadata": {
    "id": "EMkjTqP82HdS"
   }
  },
  {
   "cell_type": "code",
   "source": [
    "df.hist(bins=50, figsize=(12,12))\n",
    "\n",
    "plt.show()"
   ],
   "metadata": {
    "colab": {
     "base_uri": "https://localhost:8080/",
     "height": 1000
    },
    "id": "GqJ-wnlU2G_i",
    "outputId": "3cceb851-aa75-4758-92ee-3760e9f4b3d9"
   },
   "execution_count": null,
   "outputs": [
    {
     "output_type": "display_data",
     "data": {
      "text/plain": [
       "<Figure size 1200x1200 with 20 Axes>"
      ],
      "image/png": "[encoded data removed]"
     },
     "metadata": {}
    }
   ]
  },
  {
   "cell_type": "markdown",
   "source": [
    "Видим, что много дискретно распределенных признаков. Нормального распределения нет нигде.\n",
    "Около половины всех взятых кредитов не закрыты. Более, чем у 10,000 людей нет в собственности машины. Примерно у 10,000 нет и квартиры. Соотношение мужчин и женщин примерно 2:1.\n",
    "Посмотрим на корреляции."
   ],
   "metadata": {
    "id": "hIxIOWDt5AdF"
   }
  },
  {
   "cell_type": "code",
   "source": [
    "corr = df.corr() # correlation matrix\n",
    "plt.figure(figsize=(15,15))\n",
    "sns.heatmap(corr, annot=True)\n",
    "plt.show()"
   ],
   "metadata": {
    "colab": {
     "base_uri": "https://localhost:8080/",
     "height": 1000
    },
    "id": "d7Hwf3BU5quo",
    "outputId": "f99e5a26-6e76-4900-eaf9-fa0ec0c1bd1a"
   },
   "execution_count": null,
   "outputs": [
    {
     "output_type": "stream",
     "name": "stderr",
     "text": [
      "<ipython-input-44-d28e481d6410>:1: FutureWarning: The default value of numeric_only in DataFrame.corr is deprecated. In a future version, it will default to False. Select only valid columns or specify the value of numeric_only to silence this warning.\n",
      "  corr = df.corr() # correlation matrix\n"
     ]
    },
    {
     "output_type": "display_data",
     "data": {
      "text/plain": [
       "<Figure size 1500x1500 with 2 Axes>"
      ],
      "image/png": "[encoded data removed]"
     },
     "metadata": {}
    }
   ]
  },
  {
   "cell_type": "markdown",
   "source": [
    "Наблюдаем очень сильную взаимосвязь между количеством взятых кредитов и количеством закрытых кредитов. Также высокая корреляция между суммой последнего кредита с первоначальным взносом и его сроком."
   ],
   "metadata": {
    "id": "ZOYKuMxMxckG"
   }
  },
  {
   "cell_type": "code",
   "source": [
    "plt.figure(figsize=(4,4))\n",
    "sns.scatterplot(x=df.PERSONAL_INCOME, y=df.TARGET)\n",
    "plt.show()"
   ],
   "metadata": {
    "colab": {
     "base_uri": "https://localhost:8080/",
     "height": 388
    },
    "id": "soPkKbW8zUDA",
    "outputId": "7559bb2f-c7bf-4306-dee9-071ccc3eefa9"
   },
   "execution_count": null,
   "outputs": [
    {
     "output_type": "display_data",
     "data": {
      "text/plain": [
       "<Figure size 400x400 with 1 Axes>"
      ],
      "image/png": "[encoded data removed]"
     },
     "metadata": {}
    }
   ]
  },
  {
   "cell_type": "markdown",
   "source": [
    "Видим, что на маркетинговое предложение не откликались люди с доходом больше 150,000."
   ],
   "metadata": {
    "id": "pM1qvq_L3HZe"
   }
  },
  {
   "cell_type": "code",
   "source": [
    "plt.figure(figsize=(4,4))\n",
    "sns.scatterplot(x=df.AGE, y=df.TARGET)\n",
    "plt.show()"
   ],
   "metadata": {
    "colab": {
     "base_uri": "https://localhost:8080/",
     "height": 388
    },
    "id": "j43yQszk14Oc",
    "outputId": "1f077c38-edad-4a27-fbc2-3b976ff4768b"
   },
   "execution_count": null,
   "outputs": [
    {
     "output_type": "display_data",
     "data": {
      "text/plain": [
       "<Figure size 400x400 with 1 Axes>"
      ],
      "image/png": "[encoded data removed]"
     },
     "metadata": {}
    }
   ]
  },
  {
   "cell_type": "markdown",
   "source": [
    "Видим, что самые старые клиенты банка(возрастом более 65 лет) не были заинтересованы в предложениях банка."
   ],
   "metadata": {
    "id": "EsOv4bGK3uDX"
   }
  },
  {
   "cell_type": "markdown",
   "source": [
    "Посмотрим на числовые характеристики распределения числовых столбцов."
   ],
   "metadata": {
    "id": "8jkIWdBD4_kJ"
   }
  },
  {
   "cell_type": "code",
   "source": [
    "df.describe()"
   ],
   "metadata": {
    "colab": {
     "base_uri": "https://localhost:8080/",
     "height": 320
    },
    "id": "UhSYeD4y4nEU",
    "outputId": "c188f40d-d42b-429b-aa46-5d320d5d73a2"
   },
   "execution_count": null,
   "outputs": [
    {
     "output_type": "execute_result",
     "data": {
      "text/plain": [
       "          WORK_TIME  PERSONAL_INCOME         CREDIT          TERM  \\\n",
       "count  1.385500e+04     13855.000000   13855.000000  13855.000000   \n",
       "mean   2.922120e+02     14413.438987   14934.855620      8.144497   \n",
       "std    2.436483e+04      9079.514431   12481.687733      4.175802   \n",
       "min    1.000000e+00        24.000000    2000.000000      3.000000   \n",
       "25%    2.400000e+01      9000.000000    6526.000000      6.000000   \n",
       "50%    4.800000e+01     12000.000000   11720.000000      6.000000   \n",
       "75%    1.100000e+02     17000.000000   19590.000000     10.000000   \n",
       "max    2.867959e+06    250000.000000  119700.000000     36.000000   \n",
       "\n",
       "         FST_PAYMENT  AGREEMENT_RK        TARGET           AGE        GENDER  \\\n",
       "count   13855.000000  1.385500e+04  13855.000000  13855.000000  13855.000000   \n",
       "mean     3474.026995  6.536427e+07      0.127174     38.760159      0.639336   \n",
       "std      5302.460916  4.525424e+06      0.333180     10.657970      0.480211   \n",
       "min         0.000000  5.991015e+07      0.000000     21.000000      0.000000   \n",
       "25%      1000.000000  6.192094e+07      0.000000     30.000000      0.000000   \n",
       "50%      2000.000000  6.437103e+07      0.000000     38.000000      1.000000   \n",
       "75%      4000.000000  6.707961e+07      0.000000     47.000000      1.000000   \n",
       "max    140000.000000  7.529224e+07      1.000000     67.000000      1.000000   \n",
       "\n",
       "        CHILD_TOTAL    DEPENDANTS  SOCSTATUS_WORK_FL  SOCSTATUS_PENS_FL  \\\n",
       "count  13855.000000  13855.000000        13855.00000       13855.000000   \n",
       "mean       1.086611      0.696355            0.99935           0.049080   \n",
       "std        0.956619      0.822291            0.02548           0.216042   \n",
       "min        0.000000      0.000000            0.00000           0.000000   \n",
       "25%        0.000000      0.000000            1.00000           0.000000   \n",
       "50%        1.000000      0.000000            1.00000           0.000000   \n",
       "75%        2.000000      1.000000            1.00000           0.000000   \n",
       "max       10.000000      7.000000            1.00000           1.000000   \n",
       "\n",
       "       FL_PRESENCE_FL      OWN_AUTO  LOAN_NUM_TOTAL  LOAN_NUM_CLOSED  \n",
       "count    13855.000000  13855.000000    13855.000000     13855.000000  \n",
       "mean         0.308986      0.123782        1.397257         0.765500  \n",
       "std          0.462092      0.329564        0.805437         1.000545  \n",
       "min          0.000000      0.000000        1.000000         0.000000  \n",
       "25%          0.000000      0.000000        1.000000         0.000000  \n",
       "50%          0.000000      0.000000        1.000000         0.000000  \n",
       "75%          1.000000      0.000000        2.000000         1.000000  \n",
       "max          1.000000      2.000000       11.000000        11.000000  "
      ],
      "text/html": [
       "\n",
       "  <div id=\"df-af72528b-2a26-4dd0-835b-c614e3a391dd\" class=\"colab-df-container\">\n",
       "    <div>\n",
       "<style scoped>\n",
       "    .dataframe tbody tr th:only-of-type {\n",
       "        vertical-align: middle;\n",
       "    }\n",
       "\n",
       "    .dataframe tbody tr th {\n",
       "        vertical-align: top;\n",
       "    }\n",
       "\n",
       "    .dataframe thead th {\n",
       "        text-align: right;\n",
       "    }\n",
       "</style>\n",
       "<table border=\"1\" class=\"dataframe\">\n",
       "  <thead>\n",
       "    <tr style=\"text-align: right;\">\n",
       "      <th></th>\n",
       "      <th>WORK_TIME</th>\n",
       "      <th>PERSONAL_INCOME</th>\n",
       "      <th>CREDIT</th>\n",
       "      <th>TERM</th>\n",
       "      <th>FST_PAYMENT</th>\n",
       "      <th>AGREEMENT_RK</th>\n",
       "      <th>TARGET</th>\n",
       "      <th>AGE</th>\n",
       "      <th>GENDER</th>\n",
       "      <th>CHILD_TOTAL</th>\n",
       "      <th>DEPENDANTS</th>\n",
       "      <th>SOCSTATUS_WORK_FL</th>\n",
       "      <th>SOCSTATUS_PENS_FL</th>\n",
       "      <th>FL_PRESENCE_FL</th>\n",
       "      <th>OWN_AUTO</th>\n",
       "      <th>LOAN_NUM_TOTAL</th>\n",
       "      <th>LOAN_NUM_CLOSED</th>\n",
       "    </tr>\n",
       "  </thead>\n",
       "  <tbody>\n",
       "    <tr>\n",
       "      <th>count</th>\n",
       "      <td>1.385500e+04</td>\n",
       "      <td>13855.000000</td>\n",
       "      <td>13855.000000</td>\n",
       "      <td>13855.000000</td>\n",
       "      <td>13855.000000</td>\n",
       "      <td>1.385500e+04</td>\n",
       "      <td>13855.000000</td>\n",
       "      <td>13855.000000</td>\n",
       "      <td>13855.000000</td>\n",
       "      <td>13855.000000</td>\n",
       "      <td>13855.000000</td>\n",
       "      <td>13855.00000</td>\n",
       "      <td>13855.000000</td>\n",
       "      <td>13855.000000</td>\n",
       "      <td>13855.000000</td>\n",
       "      <td>13855.000000</td>\n",
       "      <td>13855.000000</td>\n",
       "    </tr>\n",
       "    <tr>\n",
       "      <th>mean</th>\n",
       "      <td>2.922120e+02</td>\n",
       "      <td>14413.438987</td>\n",
       "      <td>14934.855620</td>\n",
       "      <td>8.144497</td>\n",
       "      <td>3474.026995</td>\n",
       "      <td>6.536427e+07</td>\n",
       "      <td>0.127174</td>\n",
       "      <td>38.760159</td>\n",
       "      <td>0.639336</td>\n",
       "      <td>1.086611</td>\n",
       "      <td>0.696355</td>\n",
       "      <td>0.99935</td>\n",
       "      <td>0.049080</td>\n",
       "      <td>0.308986</td>\n",
       "      <td>0.123782</td>\n",
       "      <td>1.397257</td>\n",
       "      <td>0.765500</td>\n",
       "    </tr>\n",
       "    <tr>\n",
       "      <th>std</th>\n",
       "      <td>2.436483e+04</td>\n",
       "      <td>9079.514431</td>\n",
       "      <td>12481.687733</td>\n",
       "      <td>4.175802</td>\n",
       "      <td>5302.460916</td>\n",
       "      <td>4.525424e+06</td>\n",
       "      <td>0.333180</td>\n",
       "      <td>10.657970</td>\n",
       "      <td>0.480211</td>\n",
       "      <td>0.956619</td>\n",
       "      <td>0.822291</td>\n",
       "      <td>0.02548</td>\n",
       "      <td>0.216042</td>\n",
       "      <td>0.462092</td>\n",
       "      <td>0.329564</td>\n",
       "      <td>0.805437</td>\n",
       "      <td>1.000545</td>\n",
       "    </tr>\n",
       "    <tr>\n",
       "      <th>min</th>\n",
       "      <td>1.000000e+00</td>\n",
       "      <td>24.000000</td>\n",
       "      <td>2000.000000</td>\n",
       "      <td>3.000000</td>\n",
       "      <td>0.000000</td>\n",
       "      <td>5.991015e+07</td>\n",
       "      <td>0.000000</td>\n",
       "      <td>21.000000</td>\n",
       "      <td>0.000000</td>\n",
       "      <td>0.000000</td>\n",
       "      <td>0.000000</td>\n",
       "      <td>0.00000</td>\n",
       "      <td>0.000000</td>\n",
       "      <td>0.000000</td>\n",
       "      <td>0.000000</td>\n",
       "      <td>1.000000</td>\n",
       "      <td>0.000000</td>\n",
       "    </tr>\n",
       "    <tr>\n",
       "      <th>25%</th>\n",
       "      <td>2.400000e+01</td>\n",
       "      <td>9000.000000</td>\n",
       "      <td>6526.000000</td>\n",
       "      <td>6.000000</td>\n",
       "      <td>1000.000000</td>\n",
       "      <td>6.192094e+07</td>\n",
       "      <td>0.000000</td>\n",
       "      <td>30.000000</td>\n",
       "      <td>0.000000</td>\n",
       "      <td>0.000000</td>\n",
       "      <td>0.000000</td>\n",
       "      <td>1.00000</td>\n",
       "      <td>0.000000</td>\n",
       "      <td>0.000000</td>\n",
       "      <td>0.000000</td>\n",
       "      <td>1.000000</td>\n",
       "      <td>0.000000</td>\n",
       "    </tr>\n",
       "    <tr>\n",
       "      <th>50%</th>\n",
       "      <td>4.800000e+01</td>\n",
       "      <td>12000.000000</td>\n",
       "      <td>11720.000000</td>\n",
       "      <td>6.000000</td>\n",
       "      <td>2000.000000</td>\n",
       "      <td>6.437103e+07</td>\n",
       "      <td>0.000000</td>\n",
       "      <td>38.000000</td>\n",
       "      <td>1.000000</td>\n",
       "      <td>1.000000</td>\n",
       "      <td>0.000000</td>\n",
       "      <td>1.00000</td>\n",
       "      <td>0.000000</td>\n",
       "      <td>0.000000</td>\n",
       "      <td>0.000000</td>\n",
       "      <td>1.000000</td>\n",
       "      <td>0.000000</td>\n",
       "    </tr>\n",
       "    <tr>\n",
       "      <th>75%</th>\n",
       "      <td>1.100000e+02</td>\n",
       "      <td>17000.000000</td>\n",
       "      <td>19590.000000</td>\n",
       "      <td>10.000000</td>\n",
       "      <td>4000.000000</td>\n",
       "      <td>6.707961e+07</td>\n",
       "      <td>0.000000</td>\n",
       "      <td>47.000000</td>\n",
       "      <td>1.000000</td>\n",
       "      <td>2.000000</td>\n",
       "      <td>1.000000</td>\n",
       "      <td>1.00000</td>\n",
       "      <td>0.000000</td>\n",
       "      <td>1.000000</td>\n",
       "      <td>0.000000</td>\n",
       "      <td>2.000000</td>\n",
       "      <td>1.000000</td>\n",
       "    </tr>\n",
       "    <tr>\n",
       "      <th>max</th>\n",
       "      <td>2.867959e+06</td>\n",
       "      <td>250000.000000</td>\n",
       "      <td>119700.000000</td>\n",
       "      <td>36.000000</td>\n",
       "      <td>140000.000000</td>\n",
       "      <td>7.529224e+07</td>\n",
       "      <td>1.000000</td>\n",
       "      <td>67.000000</td>\n",
       "      <td>1.000000</td>\n",
       "      <td>10.000000</td>\n",
       "      <td>7.000000</td>\n",
       "      <td>1.00000</td>\n",
       "      <td>1.000000</td>\n",
       "      <td>1.000000</td>\n",
       "      <td>2.000000</td>\n",
       "      <td>11.000000</td>\n",
       "      <td>11.000000</td>\n",
       "    </tr>\n",
       "  </tbody>\n",
       "</table>\n",
       "</div>\n",
       "    <div class=\"colab-df-buttons\">\n",
       "\n",
       "  <div class=\"colab-df-container\">\n",
       "    <button class=\"colab-df-convert\" onclick=\"convertToInteractive('df-af72528b-2a26-4dd0-835b-c614e3a391dd')\"\n",
       "            title=\"Convert this dataframe to an interactive table.\"\n",
       "            style=\"display:none;\">\n",
       "\n",
       "  <svg xmlns=\"http://www.w3.org/2000/svg\" height=\"24px\" viewBox=\"0 -960 960 960\">\n",
       "    <path d=\"M120-120v-720h720v720H120Zm60-500h600v-160H180v160Zm220 220h160v-160H400v160Zm0 220h160v-160H400v160ZM180-400h160v-160H180v160Zm440 0h160v-160H620v160ZM180-180h160v-160H180v160Zm440 0h160v-160H620v160Z\"/>\n",
       "  </svg>\n",
       "    </button>\n",
       "\n",
       "  <style>\n",
       "    .colab-df-container {\n",
       "      display:flex;\n",
       "      gap: 12px;\n",
       "    }\n",
       "\n",
       "    .colab-df-convert {\n",
       "      background-color: #E8F0FE;\n",
       "      border: none;\n",
       "      border-radius: 50%;\n",
       "      cursor: pointer;\n",
       "      display: none;\n",
       "      fill: #1967D2;\n",
       "      height: 32px;\n",
       "      padding: 0 0 0 0;\n",
       "      width: 32px;\n",
       "    }\n",
       "\n",
       "    .colab-df-convert:hover {\n",
       "      background-color: #E2EBFA;\n",
       "      box-shadow: 0px 1px 2px rgba(60, 64, 67, 0.3), 0px 1px 3px 1px rgba(60, 64, 67, 0.15);\n",
       "      fill: #174EA6;\n",
       "    }\n",
       "\n",
       "    .colab-df-buttons div {\n",
       "      margin-bottom: 4px;\n",
       "    }\n",
       "\n",
       "    [theme=dark] .colab-df-convert {\n",
       "      background-color: #3B4455;\n",
       "      fill: #D2E3FC;\n",
       "    }\n",
       "\n",
       "    [theme=dark] .colab-df-convert:hover {\n",
       "      background-color: #434B5C;\n",
       "      box-shadow: 0px 1px 3px 1px rgba(0, 0, 0, 0.15);\n",
       "      filter: drop-shadow(0px 1px 2px rgba(0, 0, 0, 0.3));\n",
       "      fill: #FFFFFF;\n",
       "    }\n",
       "  </style>\n",
       "\n",
       "    <script>\n",
       "      const buttonEl =\n",
       "        document.querySelector('#df-af72528b-2a26-4dd0-835b-c614e3a391dd button.colab-df-convert');\n",
       "      buttonEl.style.display =\n",
       "        google.colab.kernel.accessAllowed ? 'block' : 'none';\n",
       "\n",
       "      async function convertToInteractive(key) {\n",
       "        const element = document.querySelector('#df-af72528b-2a26-4dd0-835b-c614e3a391dd');\n",
       "        const dataTable =\n",
       "          await google.colab.kernel.invokeFunction('convertToInteractive',\n",
       "                                                    [key], {});\n",
       "        if (!dataTable) return;\n",
       "\n",
       "        const docLinkHtml = 'Like what you see? Visit the ' +\n",
       "          '<a target=\"_blank\" href=https://colab.research.google.com/notebooks/data_table.ipynb>data table notebook</a>'\n",
       "          + ' to learn more about interactive tables.';\n",
       "        element.innerHTML = '';\n",
       "        dataTable['output_type'] = 'display_data';\n",
       "        await google.colab.output.renderOutput(dataTable, element);\n",
       "        const docLink = document.createElement('div');\n",
       "        docLink.innerHTML = docLinkHtml;\n",
       "        element.appendChild(docLink);\n",
       "      }\n",
       "    </script>\n",
       "  </div>\n",
       "\n",
       "\n",
       "<div id=\"df-33cf345d-d1d3-426a-b967-171329b7a849\">\n",
       "  <button class=\"colab-df-quickchart\" onclick=\"quickchart('df-33cf345d-d1d3-426a-b967-171329b7a849')\"\n",
       "            title=\"Suggest charts.\"\n",
       "            style=\"display:none;\">\n",
       "\n",
       "<svg xmlns=\"http://www.w3.org/2000/svg\" height=\"24px\"viewBox=\"0 0 24 24\"\n",
       "     width=\"24px\">\n",
       "    <g>\n",
       "        <path d=\"M19 3H5c-1.1 0-2 .9-2 2v14c0 1.1.9 2 2 2h14c1.1 0 2-.9 2-2V5c0-1.1-.9-2-2-2zM9 17H7v-7h2v7zm4 0h-2V7h2v10zm4 0h-2v-4h2v4z\"/>\n",
       "    </g>\n",
       "</svg>\n",
       "  </button>\n",
       "\n",
       "<style>\n",
       "  .colab-df-quickchart {\n",
       "    background-color: #E8F0FE;\n",
       "    border: none;\n",
       "    border-radius: 50%;\n",
       "    cursor: pointer;\n",
       "    display: none;\n",
       "    fill: #1967D2;\n",
       "    height: 32px;\n",
       "    padding: 0 0 0 0;\n",
       "    width: 32px;\n",
       "  }\n",
       "\n",
       "  .colab-df-quickchart:hover {\n",
       "    background-color: #E2EBFA;\n",
       "    box-shadow: 0px 1px 2px rgba(60, 64, 67, 0.3), 0px 1px 3px 1px rgba(60, 64, 67, 0.15);\n",
       "    fill: #174EA6;\n",
       "  }\n",
       "\n",
       "  [theme=dark] .colab-df-quickchart {\n",
       "    background-color: #3B4455;\n",
       "    fill: #D2E3FC;\n",
       "  }\n",
       "\n",
       "  [theme=dark] .colab-df-quickchart:hover {\n",
       "    background-color: #434B5C;\n",
       "    box-shadow: 0px 1px 3px 1px rgba(0, 0, 0, 0.15);\n",
       "    filter: drop-shadow(0px 1px 2px rgba(0, 0, 0, 0.3));\n",
       "    fill: #FFFFFF;\n",
       "  }\n",
       "</style>\n",
       "\n",
       "  <script>\n",
       "    async function quickchart(key) {\n",
       "      const charts = await google.colab.kernel.invokeFunction(\n",
       "          'suggestCharts', [key], {});\n",
       "    }\n",
       "    (() => {\n",
       "      let quickchartButtonEl =\n",
       "        document.querySelector('#df-33cf345d-d1d3-426a-b967-171329b7a849 button');\n",
       "      quickchartButtonEl.style.display =\n",
       "        google.colab.kernel.accessAllowed ? 'block' : 'none';\n",
       "    })();\n",
       "  </script>\n",
       "</div>\n",
       "    </div>\n",
       "  </div>\n"
      ]
     },
     "metadata": {},
     "execution_count": 66
    }
   ]
  },
  {
   "cell_type": "markdown",
   "source": [
    "Интересно, что:\n",
    "- средний заработок примерно равен среднему значению взятого кредита\n",
    "- был человек(несколько людей) с 11 кредитами\n",
    "- огромная разница между минимальным и максимальным заработком(минимальный - 24, максимальный - 250,000)"
   ],
   "metadata": {
    "id": "2Hnuv28P5Du5"
   }
  },
  {
   "cell_type": "markdown",
   "source": [
    "Рассмотрим столбцы с категориальными признаками. Посчитаем количество уникальных значений в них."
   ],
   "metadata": {
    "id": "GFb5AqYcCDFi"
   }
  },
  {
   "cell_type": "code",
   "source": [
    "df.EDUCATION.unique(), len(df.EDUCATION.unique())"
   ],
   "metadata": {
    "colab": {
     "base_uri": "https://localhost:8080/"
    },
    "id": "dyBCdi3f7jxB",
    "outputId": "34dbefe2-6de5-439c-e046-c8786878fdc3"
   },
   "execution_count": null,
   "outputs": [
    {
     "output_type": "execute_result",
     "data": {
      "text/plain": [
       "(array(['Среднее специальное', 'Среднее', 'Неполное среднее', 'Высшее',\n",
       "        'Неоконченное высшее', 'Два и более высших образования',\n",
       "        'Ученая степень'], dtype=object),\n",
       " 7)"
      ]
     },
     "metadata": {},
     "execution_count": 70
    }
   ]
  },
  {
   "cell_type": "code",
   "source": [
    "df.FAMILY_INCOME.unique(), len(df.FAMILY_INCOME.unique())"
   ],
   "metadata": {
    "colab": {
     "base_uri": "https://localhost:8080/"
    },
    "id": "ViEg2Iu_CeTe",
    "outputId": "514f8033-7fa6-4a4a-88ea-3141d8980500"
   },
   "execution_count": null,
   "outputs": [
    {
     "output_type": "execute_result",
     "data": {
      "text/plain": [
       "(array(['от 10000 до 20000 руб.', 'от 20000 до 50000 руб.',\n",
       "        'свыше 50000 руб.', 'от 5000 до 10000 руб.', 'до 5000 руб.'],\n",
       "       dtype=object),\n",
       " 5)"
      ]
     },
     "metadata": {},
     "execution_count": 71
    }
   ]
  },
  {
   "cell_type": "code",
   "source": [
    "df.MARITAL_STATUS.unique(), len(df.MARITAL_STATUS.unique())"
   ],
   "metadata": {
    "colab": {
     "base_uri": "https://localhost:8080/"
    },
    "id": "Yw8bV18SCi_S",
    "outputId": "ccc330f2-ea2e-48d7-de1a-f79d948ef2ca"
   },
   "execution_count": null,
   "outputs": [
    {
     "output_type": "execute_result",
     "data": {
      "text/plain": [
       "(array(['Состою в браке', 'Гражданский брак', 'Разведен(а)',\n",
       "        'Не состоял в браке', 'Вдовец/Вдова'], dtype=object),\n",
       " 5)"
      ]
     },
     "metadata": {},
     "execution_count": 72
    }
   ]
  },
  {
   "cell_type": "code",
   "source": [
    "print(\"Данные по образованию\")\n",
    "for i in range(df.EDUCATION.nunique()):\n",
    "    el = df.EDUCATION.unique()[i]\n",
    "    print(f\"{el}: {df.EDUCATION.value_counts()[el]}\")\n",
    "\n",
    "print(\"\\n\\n\\nДанные по доходу семьи\")\n",
    "for i in range(df.FAMILY_INCOME.nunique()):\n",
    "    el = df.FAMILY_INCOME.unique()[i]\n",
    "    print(f\"{el}: {df.FAMILY_INCOME.value_counts()[el]}\")\n",
    "\n",
    "print(\"\\n\\n\\nДанные по семейному положению\")\n",
    "for i in range(df.MARITAL_STATUS.nunique()):\n",
    "    el = df.MARITAL_STATUS.unique()[i]\n",
    "    print(f\"{el}: {df.MARITAL_STATUS.value_counts()[el]}\")"
   ],
   "metadata": {
    "colab": {
     "base_uri": "https://localhost:8080/"
    },
    "id": "M3jn6LMUCqwO",
    "outputId": "62cb0e19-a9d5-4689-e2e3-f202fe4d47c1"
   },
   "execution_count": null,
   "outputs": [
    {
     "output_type": "stream",
     "name": "stdout",
     "text": [
      "Данные по образованию\n",
      "Среднее специальное: 5939\n",
      "Среднее: 4115\n",
      "Неполное среднее: 233\n",
      "Высшее: 3020\n",
      "Неоконченное высшее: 528\n",
      "Два и более высших образования: 19\n",
      "Ученая степень: 1\n",
      "\n",
      "\n",
      "\n",
      "Данные по доходу семьи\n",
      "от 10000 до 20000 руб.: 6339\n",
      "от 20000 до 50000 руб.: 5882\n",
      "свыше 50000 руб.: 486\n",
      "от 5000 до 10000 руб.: 1121\n",
      "до 5000 руб.: 27\n",
      "\n",
      "\n",
      "\n",
      "Данные по семейному положению\n",
      "Состою в браке: 8626\n",
      "Гражданский брак: 333\n",
      "Разведен(а): 1155\n",
      "Не состоял в браке: 3338\n",
      "Вдовец/Вдова: 403\n"
     ]
    }
   ]
  }
 ]
}
